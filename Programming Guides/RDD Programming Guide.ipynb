{
 "cells": [
  {
   "metadata": {},
   "cell_type": "markdown",
   "source": [
    "## Linking with Spark\n",
    "pyspark는 driver 와 worker들의 python version 이 동일해야한다."
   ],
   "id": "5aab6d67e8801f95"
  },
  {
   "metadata": {
    "ExecuteTime": {
     "end_time": "2025-04-23T15:38:52.519132Z",
     "start_time": "2025-04-23T15:38:52.350756Z"
    }
   },
   "cell_type": "code",
   "source": "from pyspark import SparkContext, SparkConf",
   "id": "initial_id",
   "outputs": [],
   "execution_count": 1
  },
  {
   "metadata": {},
   "cell_type": "markdown",
   "source": [
    "## Initializing Spark \n",
    "### SparkContext\n",
    "어떻게 cluster 에 접근할지 Spark 에게 알려줌\n",
    "### SparkConf\n",
    "내 application 정보 저장  \n",
    "### SparkSession 와 SparkConf 차이?\n",
    "#### 공통점\n",
    "Spark 앱 진입점  \n",
    "<br>\n",
    "\n",
    "#### 차이점\n",
    "SparkSession 은 2.0 부터 도입된 새로운 진입점  \n",
    "SparkContext 는 RDD API 중심 지원, SparkSession 은 RDD + DataFrame + SQL 등 모든 API 지원  \n",
    "SparkSession 내부에 SparkContext 포함(spark.sparkContext)"
   ],
   "id": "b98adda65ff6fc97"
  },
  {
   "metadata": {
    "ExecuteTime": {
     "end_time": "2025-04-23T15:38:58.443987Z",
     "start_time": "2025-04-23T15:38:53.864125Z"
    }
   },
   "cell_type": "code",
   "source": [
    "if SparkContext._active_spark_context is not None:\n",
    "    sc = SparkContext.getOrCreate()\n",
    "else:\n",
    "    conf = SparkConf().setAppName(\"RDD Programming Guide\").setMaster(\"local\")\n",
    "    sc = SparkContext(conf=conf)"
   ],
   "id": "67bb26435cefeb6b",
   "outputs": [
    {
     "name": "stderr",
     "output_type": "stream",
     "text": [
      "25/04/24 00:38:56 WARN Utils: Your hostname, gimjunhaui-MacBookPro.local resolves to a loopback address: 127.0.0.1; using 192.168.45.143 instead (on interface en0)\n",
      "25/04/24 00:38:56 WARN Utils: Set SPARK_LOCAL_IP if you need to bind to another address\n",
      "Setting default log level to \"WARN\".\n",
      "To adjust logging level use sc.setLogLevel(newLevel). For SparkR, use setLogLevel(newLevel).\n",
      "25/04/24 00:38:57 WARN NativeCodeLoader: Unable to load native-hadoop library for your platform... using builtin-java classes where applicable\n"
     ]
    }
   ],
   "execution_count": 2
  },
  {
   "metadata": {},
   "cell_type": "markdown",
   "source": [
    "### Using shell\n",
    "\n",
    "shell 에서 사용법은 다음에   \n",
    "python driver 설정 내용이 있는데 필요할 때 알아보자"
   ],
   "id": "875d049b7818bf4b"
  },
  {
   "metadata": {},
   "cell_type": "markdown",
   "source": [
    "## Resilient Distributed Datasets (RDDs)\n",
    "RDDs 는 고장에 강하고 병렬로 처리할 수 있는 데이터 요소들의 집합  \n",
    "RDDs 생성은 드라이버 프로그램에 있는 데이터 요소들 혹은 외부 저장장치에 있는 데이터셋 (HDFS, HBase, Hadoop 기반)"
   ],
   "id": "4c6f8baf184b4f11"
  },
  {
   "metadata": {},
   "cell_type": "markdown",
   "source": [
    "### Parallelized Collection\n",
    "Parallelized Collection은 드라이버 프로그램에서 기존의 리스트나 반복 가능한 객체에 대해 SparkContext의 parallelize 메소드를 호출함으로 생성  \n",
    "데이터 요소들은 복사되어 병렬로 처리할 수 있는 RDDs 가 됨"
   ],
   "id": "5bf196f02d8bd5bc"
  },
  {
   "metadata": {
    "ExecuteTime": {
     "end_time": "2025-04-23T15:38:03.843151Z",
     "start_time": "2025-04-23T15:38:03.730449Z"
    }
   },
   "cell_type": "code",
   "source": [
    "data = [1, 2, 3, 4, 5]\n",
    "distData = sc.parallelize(data)\n",
    "distData"
   ],
   "id": "4ff25570f5552022",
   "outputs": [
    {
     "ename": "ConnectionRefusedError",
     "evalue": "[Errno 61] Connection refused",
     "output_type": "error",
     "traceback": [
      "\u001B[31m---------------------------------------------------------------------------\u001B[39m",
      "\u001B[31mConnectionRefusedError\u001B[39m                    Traceback (most recent call last)",
      "\u001B[36mCell\u001B[39m\u001B[36m \u001B[39m\u001B[32mIn[36]\u001B[39m\u001B[32m, line 2\u001B[39m\n\u001B[32m      1\u001B[39m data = [\u001B[32m1\u001B[39m, \u001B[32m2\u001B[39m, \u001B[32m3\u001B[39m, \u001B[32m4\u001B[39m, \u001B[32m5\u001B[39m]\n\u001B[32m----> \u001B[39m\u001B[32m2\u001B[39m distData = \u001B[43msc\u001B[49m\u001B[43m.\u001B[49m\u001B[43mparallelize\u001B[49m\u001B[43m(\u001B[49m\u001B[43mdata\u001B[49m\u001B[43m)\u001B[49m\n\u001B[32m      3\u001B[39m distData\n",
      "\u001B[36mFile \u001B[39m\u001B[32m~/PycharmProjects/sparkstudy/.venv/lib/python3.11/site-packages/pyspark/context.py:783\u001B[39m, in \u001B[36mSparkContext.parallelize\u001B[39m\u001B[34m(self, c, numSlices)\u001B[39m\n\u001B[32m    751\u001B[39m \u001B[38;5;28;01mdef\u001B[39;00m\u001B[38;5;250m \u001B[39m\u001B[34mparallelize\u001B[39m(\u001B[38;5;28mself\u001B[39m, c: Iterable[T], numSlices: Optional[\u001B[38;5;28mint\u001B[39m] = \u001B[38;5;28;01mNone\u001B[39;00m) -> RDD[T]:\n\u001B[32m    752\u001B[39m \u001B[38;5;250m    \u001B[39m\u001B[33;03m\"\"\"\u001B[39;00m\n\u001B[32m    753\u001B[39m \u001B[33;03m    Distribute a local Python collection to form an RDD. Using range\u001B[39;00m\n\u001B[32m    754\u001B[39m \u001B[33;03m    is recommended if the input represents a range for performance.\u001B[39;00m\n\u001B[32m   (...)\u001B[39m\u001B[32m    781\u001B[39m \u001B[33;03m    [['a'], ['b', 'c']]\u001B[39;00m\n\u001B[32m    782\u001B[39m \u001B[33;03m    \"\"\"\u001B[39;00m\n\u001B[32m--> \u001B[39m\u001B[32m783\u001B[39m     numSlices = \u001B[38;5;28mint\u001B[39m(numSlices) \u001B[38;5;28;01mif\u001B[39;00m numSlices \u001B[38;5;129;01mis\u001B[39;00m \u001B[38;5;129;01mnot\u001B[39;00m \u001B[38;5;28;01mNone\u001B[39;00m \u001B[38;5;28;01melse\u001B[39;00m \u001B[38;5;28;43mself\u001B[39;49m\u001B[43m.\u001B[49m\u001B[43mdefaultParallelism\u001B[49m\n\u001B[32m    784\u001B[39m     \u001B[38;5;28;01mif\u001B[39;00m \u001B[38;5;28misinstance\u001B[39m(c, \u001B[38;5;28mrange\u001B[39m):\n\u001B[32m    785\u001B[39m         size = \u001B[38;5;28mlen\u001B[39m(c)\n",
      "\u001B[36mFile \u001B[39m\u001B[32m~/PycharmProjects/sparkstudy/.venv/lib/python3.11/site-packages/pyspark/context.py:630\u001B[39m, in \u001B[36mSparkContext.defaultParallelism\u001B[39m\u001B[34m(self)\u001B[39m\n\u001B[32m    618\u001B[39m \u001B[38;5;129m@property\u001B[39m\n\u001B[32m    619\u001B[39m \u001B[38;5;28;01mdef\u001B[39;00m\u001B[38;5;250m \u001B[39m\u001B[34mdefaultParallelism\u001B[39m(\u001B[38;5;28mself\u001B[39m) -> \u001B[38;5;28mint\u001B[39m:\n\u001B[32m    620\u001B[39m \u001B[38;5;250m    \u001B[39m\u001B[33;03m\"\"\"\u001B[39;00m\n\u001B[32m    621\u001B[39m \u001B[33;03m    Default level of parallelism to use when not given by user (e.g. for reduce tasks)\u001B[39;00m\n\u001B[32m    622\u001B[39m \n\u001B[32m   (...)\u001B[39m\u001B[32m    628\u001B[39m \u001B[33;03m    True\u001B[39;00m\n\u001B[32m    629\u001B[39m \u001B[33;03m    \"\"\"\u001B[39;00m\n\u001B[32m--> \u001B[39m\u001B[32m630\u001B[39m     \u001B[38;5;28;01mreturn\u001B[39;00m \u001B[38;5;28;43mself\u001B[39;49m\u001B[43m.\u001B[49m\u001B[43m_jsc\u001B[49m\u001B[43m.\u001B[49m\u001B[43msc\u001B[49m\u001B[43m(\u001B[49m\u001B[43m)\u001B[49m.defaultParallelism()\n",
      "\u001B[36mFile \u001B[39m\u001B[32m~/PycharmProjects/sparkstudy/.venv/lib/python3.11/site-packages/py4j/java_gateway.py:1321\u001B[39m, in \u001B[36mJavaMember.__call__\u001B[39m\u001B[34m(self, *args)\u001B[39m\n\u001B[32m   1314\u001B[39m args_command, temp_args = \u001B[38;5;28mself\u001B[39m._build_args(*args)\n\u001B[32m   1316\u001B[39m command = proto.CALL_COMMAND_NAME +\\\n\u001B[32m   1317\u001B[39m     \u001B[38;5;28mself\u001B[39m.command_header +\\\n\u001B[32m   1318\u001B[39m     args_command +\\\n\u001B[32m   1319\u001B[39m     proto.END_COMMAND_PART\n\u001B[32m-> \u001B[39m\u001B[32m1321\u001B[39m answer = \u001B[38;5;28;43mself\u001B[39;49m\u001B[43m.\u001B[49m\u001B[43mgateway_client\u001B[49m\u001B[43m.\u001B[49m\u001B[43msend_command\u001B[49m\u001B[43m(\u001B[49m\u001B[43mcommand\u001B[49m\u001B[43m)\u001B[49m\n\u001B[32m   1322\u001B[39m return_value = get_return_value(\n\u001B[32m   1323\u001B[39m     answer, \u001B[38;5;28mself\u001B[39m.gateway_client, \u001B[38;5;28mself\u001B[39m.target_id, \u001B[38;5;28mself\u001B[39m.name)\n\u001B[32m   1325\u001B[39m \u001B[38;5;28;01mfor\u001B[39;00m temp_arg \u001B[38;5;129;01min\u001B[39;00m temp_args:\n",
      "\u001B[36mFile \u001B[39m\u001B[32m~/PycharmProjects/sparkstudy/.venv/lib/python3.11/site-packages/py4j/java_gateway.py:1036\u001B[39m, in \u001B[36mGatewayClient.send_command\u001B[39m\u001B[34m(self, command, retry, binary)\u001B[39m\n\u001B[32m   1015\u001B[39m \u001B[38;5;28;01mdef\u001B[39;00m\u001B[38;5;250m \u001B[39m\u001B[34msend_command\u001B[39m(\u001B[38;5;28mself\u001B[39m, command, retry=\u001B[38;5;28;01mTrue\u001B[39;00m, binary=\u001B[38;5;28;01mFalse\u001B[39;00m):\n\u001B[32m   1016\u001B[39m \u001B[38;5;250m    \u001B[39m\u001B[33;03m\"\"\"Sends a command to the JVM. This method is not intended to be\u001B[39;00m\n\u001B[32m   1017\u001B[39m \u001B[33;03m       called directly by Py4J users. It is usually called by\u001B[39;00m\n\u001B[32m   1018\u001B[39m \u001B[33;03m       :class:`JavaMember` instances.\u001B[39;00m\n\u001B[32m   (...)\u001B[39m\u001B[32m   1034\u001B[39m \u001B[33;03m     if `binary` is `True`.\u001B[39;00m\n\u001B[32m   1035\u001B[39m \u001B[33;03m    \"\"\"\u001B[39;00m\n\u001B[32m-> \u001B[39m\u001B[32m1036\u001B[39m     connection = \u001B[38;5;28;43mself\u001B[39;49m\u001B[43m.\u001B[49m\u001B[43m_get_connection\u001B[49m\u001B[43m(\u001B[49m\u001B[43m)\u001B[49m\n\u001B[32m   1037\u001B[39m     \u001B[38;5;28;01mtry\u001B[39;00m:\n\u001B[32m   1038\u001B[39m         response = connection.send_command(command)\n",
      "\u001B[36mFile \u001B[39m\u001B[32m~/PycharmProjects/sparkstudy/.venv/lib/python3.11/site-packages/py4j/clientserver.py:284\u001B[39m, in \u001B[36mJavaClient._get_connection\u001B[39m\u001B[34m(self)\u001B[39m\n\u001B[32m    281\u001B[39m     \u001B[38;5;28;01mpass\u001B[39;00m\n\u001B[32m    283\u001B[39m \u001B[38;5;28;01mif\u001B[39;00m connection \u001B[38;5;129;01mis\u001B[39;00m \u001B[38;5;28;01mNone\u001B[39;00m \u001B[38;5;129;01mor\u001B[39;00m connection.socket \u001B[38;5;129;01mis\u001B[39;00m \u001B[38;5;28;01mNone\u001B[39;00m:\n\u001B[32m--> \u001B[39m\u001B[32m284\u001B[39m     connection = \u001B[38;5;28;43mself\u001B[39;49m\u001B[43m.\u001B[49m\u001B[43m_create_new_connection\u001B[49m\u001B[43m(\u001B[49m\u001B[43m)\u001B[49m\n\u001B[32m    285\u001B[39m \u001B[38;5;28;01mreturn\u001B[39;00m connection\n",
      "\u001B[36mFile \u001B[39m\u001B[32m~/PycharmProjects/sparkstudy/.venv/lib/python3.11/site-packages/py4j/clientserver.py:291\u001B[39m, in \u001B[36mJavaClient._create_new_connection\u001B[39m\u001B[34m(self)\u001B[39m\n\u001B[32m    287\u001B[39m \u001B[38;5;28;01mdef\u001B[39;00m\u001B[38;5;250m \u001B[39m\u001B[34m_create_new_connection\u001B[39m(\u001B[38;5;28mself\u001B[39m):\n\u001B[32m    288\u001B[39m     connection = ClientServerConnection(\n\u001B[32m    289\u001B[39m         \u001B[38;5;28mself\u001B[39m.java_parameters, \u001B[38;5;28mself\u001B[39m.python_parameters,\n\u001B[32m    290\u001B[39m         \u001B[38;5;28mself\u001B[39m.gateway_property, \u001B[38;5;28mself\u001B[39m)\n\u001B[32m--> \u001B[39m\u001B[32m291\u001B[39m     \u001B[43mconnection\u001B[49m\u001B[43m.\u001B[49m\u001B[43mconnect_to_java_server\u001B[49m\u001B[43m(\u001B[49m\u001B[43m)\u001B[49m\n\u001B[32m    292\u001B[39m     \u001B[38;5;28mself\u001B[39m.set_thread_connection(connection)\n\u001B[32m    293\u001B[39m     \u001B[38;5;28;01mreturn\u001B[39;00m connection\n",
      "\u001B[36mFile \u001B[39m\u001B[32m~/PycharmProjects/sparkstudy/.venv/lib/python3.11/site-packages/py4j/clientserver.py:438\u001B[39m, in \u001B[36mClientServerConnection.connect_to_java_server\u001B[39m\u001B[34m(self)\u001B[39m\n\u001B[32m    435\u001B[39m \u001B[38;5;28;01mif\u001B[39;00m \u001B[38;5;28mself\u001B[39m.ssl_context:\n\u001B[32m    436\u001B[39m     \u001B[38;5;28mself\u001B[39m.socket = \u001B[38;5;28mself\u001B[39m.ssl_context.wrap_socket(\n\u001B[32m    437\u001B[39m         \u001B[38;5;28mself\u001B[39m.socket, server_hostname=\u001B[38;5;28mself\u001B[39m.java_address)\n\u001B[32m--> \u001B[39m\u001B[32m438\u001B[39m \u001B[38;5;28;43mself\u001B[39;49m\u001B[43m.\u001B[49m\u001B[43msocket\u001B[49m\u001B[43m.\u001B[49m\u001B[43mconnect\u001B[49m\u001B[43m(\u001B[49m\u001B[43m(\u001B[49m\u001B[38;5;28;43mself\u001B[39;49m\u001B[43m.\u001B[49m\u001B[43mjava_address\u001B[49m\u001B[43m,\u001B[49m\u001B[43m \u001B[49m\u001B[38;5;28;43mself\u001B[39;49m\u001B[43m.\u001B[49m\u001B[43mjava_port\u001B[49m\u001B[43m)\u001B[49m\u001B[43m)\u001B[49m\n\u001B[32m    439\u001B[39m \u001B[38;5;28mself\u001B[39m.stream = \u001B[38;5;28mself\u001B[39m.socket.makefile(\u001B[33m\"\u001B[39m\u001B[33mrb\u001B[39m\u001B[33m\"\u001B[39m)\n\u001B[32m    440\u001B[39m \u001B[38;5;28mself\u001B[39m.is_connected = \u001B[38;5;28;01mTrue\u001B[39;00m\n",
      "\u001B[31mConnectionRefusedError\u001B[39m: [Errno 61] Connection refused"
     ]
    }
   ],
   "execution_count": 36
  },
  {
   "metadata": {},
   "cell_type": "markdown",
   "source": [
    "일단 생성을 하면 분산된 데이터셋(distData) 는 병렬로 처리 가능  \n",
    "예를 들어 아래와 같이 코드를 작성하면 모든 요소의 합을 구할 수 있다."
   ],
   "id": "278d2b28a5904585"
  },
  {
   "metadata": {
    "ExecuteTime": {
     "end_time": "2025-04-16T14:37:33.886008Z",
     "start_time": "2025-04-16T14:37:33.749842Z"
    }
   },
   "cell_type": "code",
   "source": "distData.reduce(lambda a, b: a + b)",
   "id": "bb0bf386dc7ef95b",
   "outputs": [
    {
     "data": {
      "text/plain": [
       "15"
      ]
     },
     "execution_count": 18,
     "metadata": {},
     "output_type": "execute_result"
    }
   ],
   "execution_count": 18
  },
  {
   "metadata": {},
   "cell_type": "markdown",
   "source": [
    "Parallelized Collection 에서 가장 중요한 요소(변수) 하나는 데이터셋을 몇개의 파티션으로 나눌지이다.  \n",
    "Spark 는 각 클러스터의 파티션에 대해 한가지 task 만 실행  \n",
    "보통 클러스터의 CPU 당 2~4 파티션으로 나눈다. \n",
    "Spark 는 자동으로 클러스터 기반으로 파티션 갯수를 나눈다.  \n",
    "그러나, 수동으로 몇개의 파티션을 나눌지 설정이 가능"
   ],
   "id": "b4fd0a7cc3bd8c15"
  },
  {
   "metadata": {
    "ExecuteTime": {
     "end_time": "2025-04-16T14:37:35.194941Z",
     "start_time": "2025-04-16T14:37:35.187805Z"
    }
   },
   "cell_type": "code",
   "source": "sc.parallelize(data, 10) # 10개의 파티션으로 나눈다",
   "id": "2551e051cf559ee9",
   "outputs": [
    {
     "data": {
      "text/plain": [
       "ParallelCollectionRDD[30] at readRDDFromFile at PythonRDD.scala:289"
      ]
     },
     "execution_count": 19,
     "metadata": {},
     "output_type": "execute_result"
    }
   ],
   "execution_count": 19
  },
  {
   "metadata": {
    "ExecuteTime": {
     "end_time": "2025-04-17T15:22:23.458500Z",
     "start_time": "2025-04-17T15:22:17.520780Z"
    }
   },
   "cell_type": "code",
   "source": [
    "# 실험 시간 갯수\n",
    "# 1~1000억 하니 컴퓨터 메모리가 못버틴다...\n",
    "# 메모리 에러 발생 -> SparkConf 기본 메모리가 1G 로 되어 있어서 아래와같이 설정\n",
    "data1 = list(range(100000000))\n",
    "conf1 = SparkConf().setAppName(\"MyApp\").set(\"spark.executor.memory\", \"2g\").set(\"spark.driver.memory\", \"2g\")\n",
    "sc1 = SparkContext(conf=conf1)"
   ],
   "id": "2e29cd834ae4d027",
   "outputs": [
    {
     "name": "stderr",
     "output_type": "stream",
     "text": [
      "25/04/18 00:22:21 WARN Utils: Your hostname, gimjunhaui-MacBookPro.local resolves to a loopback address: 127.0.0.1; using 192.168.45.202 instead (on interface en0)\n",
      "25/04/18 00:22:21 WARN Utils: Set SPARK_LOCAL_IP if you need to bind to another address\n",
      "Setting default log level to \"WARN\".\n",
      "To adjust logging level use sc.setLogLevel(newLevel). For SparkR, use setLogLevel(newLevel).\n",
      "25/04/18 00:22:22 WARN NativeCodeLoader: Unable to load native-hadoop library for your platform... using builtin-java classes where applicable\n"
     ]
    }
   ],
   "execution_count": 2
  },
  {
   "metadata": {
    "ExecuteTime": {
     "end_time": "2025-04-17T15:19:13.103475Z",
     "start_time": "2025-04-17T15:18:48.271472Z"
    }
   },
   "cell_type": "code",
   "source": [
    "distData1 = sc1.parallelize(data1, 2)\n",
    "distData1.reduce(lambda a, b: a + b)"
   ],
   "id": "df4204bc63ad9e34",
   "outputs": [
    {
     "name": "stderr",
     "output_type": "stream",
     "text": [
      "25/04/18 00:19:01 WARN TaskSetManager: Stage 0 contains a task of very large size (245355 KiB). The maximum recommended task size is 1000 KiB.\n",
      "                                                                                \r"
     ]
    },
    {
     "data": {
      "text/plain": [
       "4999999950000000"
      ]
     },
     "execution_count": 3,
     "metadata": {},
     "output_type": "execute_result"
    }
   ],
   "execution_count": 3
  },
  {
   "metadata": {
    "ExecuteTime": {
     "end_time": "2025-04-17T15:22:42.784566Z",
     "start_time": "2025-04-17T15:22:25.693365Z"
    }
   },
   "cell_type": "code",
   "source": [
    "distData2 = sc1.parallelize(data1, 10)\n",
    "distData2.reduce(lambda a, b: a + b)"
   ],
   "id": "9d9f8c086c6d7aaf",
   "outputs": [
    {
     "name": "stderr",
     "output_type": "stream",
     "text": [
      "25/04/18 00:22:37 WARN TaskSetManager: Stage 0 contains a task of very large size (48972 KiB). The maximum recommended task size is 1000 KiB.\n",
      "                                                                                \r"
     ]
    },
    {
     "data": {
      "text/plain": [
       "4999999950000000"
      ]
     },
     "execution_count": 3,
     "metadata": {},
     "output_type": "execute_result"
    }
   ],
   "execution_count": 3
  },
  {
   "metadata": {},
   "cell_type": "markdown",
   "source": [
    "#### 2개 파티션 vs 10개 파티션 시간 비교\n",
    "1~1억 이 들어있는 List 의 sum 을 하나씩 더해서 구하는 경우  \n",
    "2개 파티션 24.832초  \n",
    "10개 파티션 17.91초  \n",
    "나눠서 하면 빠르다!"
   ],
   "id": "a1e2d9b4c2872256"
  },
  {
   "metadata": {},
   "cell_type": "markdown",
   "source": [
    "### External Datasets\n",
    "PySpark은 Hadoop 에서 호환되는 모든 저장 source로 분산된 데이터셋 생성이 가능 (local file system, HDFS, Cassandra, HBase, AWS S3 등)  \n",
    "Spark 는 텍스트파일 sequence 파일 혹은 다른 Hadoop 입력형식을 지원한다.  \n",
    "\n",
    "<strong>textFile</strong> method 을 사용해서 텍스트파일 RDDs 생성이 가능  \n",
    "이 method 은 파일의 URI(로컬 경로, hdfs://, s3a:// 등의 URI) 를 가지고 줄 단위로 읽는다.  \n",
    "생성된 RDDs 텍스트파일은 dataset 기능을 사용가능하다."
   ],
   "id": "29448de8397f1417"
  },
  {
   "metadata": {
    "ExecuteTime": {
     "end_time": "2025-04-16T14:37:36.682930Z",
     "start_time": "2025-04-16T14:37:36.457149Z"
    }
   },
   "cell_type": "code",
   "source": [
    "distFile = sc.textFile(\"../data/data.txt\")\n",
    "# distFile(data.txt) 의 총 길이\n",
    "distFile.map(lambda s: len(s)).reduce(lambda a, b: a + b)"
   ],
   "id": "3ed7bbf478fb2c4a",
   "outputs": [
    {
     "data": {
      "text/plain": [
       "999"
      ]
     },
     "execution_count": 20,
     "metadata": {},
     "output_type": "execute_result"
    }
   ],
   "execution_count": 20
  },
  {
   "metadata": {},
   "cell_type": "markdown",
   "source": [
    "Spark에서 파일 읽는 경우 참고 사항 (textFile)\n",
    "* 만약 로컬 파일을 쓰는 경우 노드 내에도 같은 경로에 접근 가능한 파일이 존재해야한다. 모든 노드에 복사 혹은 노드에 공유된 network-mounted 파일 시스템 사용\n",
    "* 파일을 읽을때 파일경로(sample.txt), 와일드카드(\\*.txt 같은), 압축파일(*.gz) 이 사용 가능하다\n",
    "* textFile에는 두번째 인자가 있는데 이는 파일이 몇개의 파티션으로 구성될지 설정. 기본값으로 파일블럭(블럭은 HDFS 에서 128MB 기본값)당 1개의 파티션 생성, block 갯수 > 파티션 갯수"
   ],
   "id": "c24e4d366b8c230a"
  },
  {
   "metadata": {},
   "cell_type": "markdown",
   "source": [
    "Spark 파이썬 API 지원하는 데이터 형식\n",
    "* <strong>SparkContext.wholeTextFiles</strong> 은 경로 안에 있는 작은 여러 텍스트 파일을 읽고, 각각 (파일명, 내용) 쌍으로 리턴함. textFile은 다르게 각파일에서 각줄당 1개의 결과만 리턴\n",
    "* <strong>RDD.saveAsPickleFile</strong> and <strong>SparkContext.pickleFile</strong>은 RDD를 간단한 형식인 pickle 의 Python object로 저장을 지원, 배치가 pickle serialization 에 사용, 배치 기본 크기는 10.\n",
    "* <strong>SequenceFile</strong> 와 <strong>Hadoop Input/Output</strong>형식"
   ],
   "id": "1c5e45998042672a"
  },
  {
   "metadata": {},
   "cell_type": "markdown",
   "source": "### Spark SQL 의 read/write 지원은 실험 단계. 고수를 위한거므로 일단은 패스...",
   "id": "f1c2fd87f9816f32"
  },
  {
   "metadata": {},
   "cell_type": "markdown",
   "source": [
    "### RDD Operations\n",
    "2가지의 operation 지원 \n",
    "transformations, actions\n",
    "\n",
    " "
   ],
   "id": "e1b4ddc9b22570d6"
  },
  {
   "metadata": {},
   "cell_type": "markdown",
   "source": [
    "#### transformations    \n",
    "기존의 dataset으로 새로운 dataset 생성  "
   ],
   "id": "f01b011177e3e865"
  },
  {
   "metadata": {},
   "cell_type": "markdown",
   "source": [
    "#### actions \n",
    "dataset의 실행 결과인 하나의 값을 driver program 으로 전달."
   ],
   "id": "a98568def841918e"
  },
  {
   "metadata": {},
   "cell_type": "code",
   "outputs": [],
   "execution_count": null,
   "source": [
    "# 이해를 돕기위한 예\n",
    "distFile = sc.textFile(\"../data/data.txt\")\n",
    "distFile.map(lambda s: len(s)).reduce(lambda a, b: a + b)"
   ],
   "id": "7bbeba2c9c57f70e"
  },
  {
   "metadata": {},
   "cell_type": "markdown",
   "source": [
    "<code>distFile.map(lambda s: len(s))</code> 은 transformations 에 해당  \n",
    "각 줄마다 길이를 갖는 새로운 dataset 으로 변환  "
   ],
   "id": "c98156af546b6d9a"
  },
  {
   "metadata": {},
   "cell_type": "markdown",
   "source": [
    "<code>distFile.map(lambda s: len(s)).reduce(lambda a, b: a + b)</code> 은 actions 에 해당  \n",
    "위의 transformation 한 dataset 에 대해서 각줄의 길이의 합(전체 길이) 를 하나의 값으로 반환  \n",
    "(참고: reduceByKey 는 distributed dataset 반환)"
   ],
   "id": "dd821549bdd369bf"
  },
  {
   "metadata": {},
   "cell_type": "markdown",
   "source": [
    "모든 transformations 은 lazy(게으름), 실제로 실행을 바로 하지 않음.  \n",
    "transformation 해야하는거만 기억해둠.  \n",
    "action 이 일어나지 않으면 실제 행하지 않음.   \n",
    "이를 통해 Spark가 더 효율적으로 실행 가능 "
   ],
   "id": "ef54c6db331d26af"
  },
  {
   "metadata": {},
   "cell_type": "markdown",
   "source": [
    "기본적으로 transform RDD 는 매번 action 이 일어나면 실행하지만, 자주 사용하는 RDD 를 메모리에 <strong>persist</strong>(cache, 캐싱) 가능.  \n",
    "자주 쓰이므로 메모리에 올려두고 더 빠르게 접근 가능(매번 transform 하지 않아도 된다)  \n",
    "추가로 RDD를 디스크에 persisting 하거나 여러 노드에 복제할 수 있다.  "
   ],
   "id": "228b59c3a30b2045"
  },
  {
   "metadata": {},
   "cell_type": "markdown",
   "source": "#### Basics",
   "id": "4acf3be1f83dfd"
  },
  {
   "metadata": {},
   "cell_type": "code",
   "outputs": [],
   "execution_count": null,
   "source": [
    "lines = sc.textFile(\"../data/data.txt\") # 파일 위치를 그저 가르킬 뿐, 메모리에 올리거나 해당 RDD 에 대한 action 이 없으면 행하지 않음\n",
    "lineLengths = lines.map(lambda s: len(s)) # transformation, 당장 실행하지 않음, 게으름\n",
    "totalLength = lineLengths.reduce(lambda a, b: a + b) # action, 여러 장치에서 돌리기 위해 task 단위로 할일을 나눔, 각 장치에서 map 과 reduce 실행 지금 실행하는 위치에서만 결과값을 반환 받음\n",
    "print(totalLength)\n",
    "\n",
    "# 나중에 lineLengths 를 쓴다면\n",
    "lineLengths.persist()"
   ],
   "id": "55c600b926301e3a"
  },
  {
   "metadata": {},
   "cell_type": "markdown",
   "source": [
    "#### Passing Functions to Spark\n",
    "클러스터 내에서 실행하는 Spark API는 driver program 이 보내주는 function 에 의지한다.  \n",
    "3가지 권장된 방법:  \n",
    "1. Lambda 표현식(Lambda는 multi-statement function(여러줄로 된 함수)과 return 값이 없는 것을 지원하지 않음\n",
    "2. spark 연산을 호출하는 함수 내부에 로컬 함수를 정의하는 방식(코드가 좀 길도, 외부에서 안 쓰는 함수)\n",
    "3. 함수 정의를 스크림트나 모듈의 최상단에 위치시키는 것 (재사용 시, 여러 spark 작업에서 쓸 때)"
   ],
   "id": "77396be27070b894"
  },
  {
   "metadata": {},
   "cell_type": "code",
   "outputs": [],
   "execution_count": null,
   "source": [
    "# 1. lambda 표현식\n",
    "rdd = sc.textFile(\"../data/data.txt\")\n",
    "rdd.map(lambda s: len(s)).reduce(lambda a, b: a + b)"
   ],
   "id": "d49c651b976d3da2"
  },
  {
   "metadata": {
    "ExecuteTime": {
     "end_time": "2025-04-23T15:37:51.938186Z",
     "start_time": "2025-04-23T15:37:51.812589Z"
    }
   },
   "cell_type": "code",
   "source": [
    "# 2. 로컬 함수 사용\n",
    "def process_data():\n",
    "    def is_even(x):\n",
    "        return x % 2 == 0\n",
    "    \n",
    "    rdd = sc.parallelize(range(10))\n",
    "    even_rdd = rdd.filter(is_even)\n",
    "    print(even_rdd.collect())\n",
    "process_data()"
   ],
   "id": "1b4c40967ca95b43",
   "outputs": [
    {
     "ename": "ConnectionRefusedError",
     "evalue": "[Errno 61] Connection refused",
     "output_type": "error",
     "traceback": [
      "\u001B[31m---------------------------------------------------------------------------\u001B[39m",
      "\u001B[31mConnectionRefusedError\u001B[39m                    Traceback (most recent call last)",
      "\u001B[36mCell\u001B[39m\u001B[36m \u001B[39m\u001B[32mIn[34]\u001B[39m\u001B[32m, line 9\u001B[39m\n\u001B[32m      7\u001B[39m     even_rdd = rdd.filter(is_even)\n\u001B[32m      8\u001B[39m     \u001B[38;5;28mprint\u001B[39m(even_rdd.collect())\n\u001B[32m----> \u001B[39m\u001B[32m9\u001B[39m \u001B[43mprocess_data\u001B[49m\u001B[43m(\u001B[49m\u001B[43m)\u001B[49m\n",
      "\u001B[36mCell\u001B[39m\u001B[36m \u001B[39m\u001B[32mIn[34]\u001B[39m\u001B[32m, line 6\u001B[39m, in \u001B[36mprocess_data\u001B[39m\u001B[34m()\u001B[39m\n\u001B[32m      3\u001B[39m \u001B[38;5;28;01mdef\u001B[39;00m\u001B[38;5;250m \u001B[39m\u001B[34mis_even\u001B[39m(x):\n\u001B[32m      4\u001B[39m     \u001B[38;5;28;01mreturn\u001B[39;00m x % \u001B[32m2\u001B[39m == \u001B[32m0\u001B[39m\n\u001B[32m----> \u001B[39m\u001B[32m6\u001B[39m rdd = \u001B[43msc\u001B[49m\u001B[43m.\u001B[49m\u001B[43mparallelize\u001B[49m\u001B[43m(\u001B[49m\u001B[38;5;28;43mrange\u001B[39;49m\u001B[43m(\u001B[49m\u001B[32;43m10\u001B[39;49m\u001B[43m)\u001B[49m\u001B[43m)\u001B[49m\n\u001B[32m      7\u001B[39m even_rdd = rdd.filter(is_even)\n\u001B[32m      8\u001B[39m \u001B[38;5;28mprint\u001B[39m(even_rdd.collect())\n",
      "\u001B[36mFile \u001B[39m\u001B[32m~/PycharmProjects/sparkstudy/.venv/lib/python3.11/site-packages/pyspark/context.py:783\u001B[39m, in \u001B[36mSparkContext.parallelize\u001B[39m\u001B[34m(self, c, numSlices)\u001B[39m\n\u001B[32m    751\u001B[39m \u001B[38;5;28;01mdef\u001B[39;00m\u001B[38;5;250m \u001B[39m\u001B[34mparallelize\u001B[39m(\u001B[38;5;28mself\u001B[39m, c: Iterable[T], numSlices: Optional[\u001B[38;5;28mint\u001B[39m] = \u001B[38;5;28;01mNone\u001B[39;00m) -> RDD[T]:\n\u001B[32m    752\u001B[39m \u001B[38;5;250m    \u001B[39m\u001B[33;03m\"\"\"\u001B[39;00m\n\u001B[32m    753\u001B[39m \u001B[33;03m    Distribute a local Python collection to form an RDD. Using range\u001B[39;00m\n\u001B[32m    754\u001B[39m \u001B[33;03m    is recommended if the input represents a range for performance.\u001B[39;00m\n\u001B[32m   (...)\u001B[39m\u001B[32m    781\u001B[39m \u001B[33;03m    [['a'], ['b', 'c']]\u001B[39;00m\n\u001B[32m    782\u001B[39m \u001B[33;03m    \"\"\"\u001B[39;00m\n\u001B[32m--> \u001B[39m\u001B[32m783\u001B[39m     numSlices = \u001B[38;5;28mint\u001B[39m(numSlices) \u001B[38;5;28;01mif\u001B[39;00m numSlices \u001B[38;5;129;01mis\u001B[39;00m \u001B[38;5;129;01mnot\u001B[39;00m \u001B[38;5;28;01mNone\u001B[39;00m \u001B[38;5;28;01melse\u001B[39;00m \u001B[38;5;28;43mself\u001B[39;49m\u001B[43m.\u001B[49m\u001B[43mdefaultParallelism\u001B[49m\n\u001B[32m    784\u001B[39m     \u001B[38;5;28;01mif\u001B[39;00m \u001B[38;5;28misinstance\u001B[39m(c, \u001B[38;5;28mrange\u001B[39m):\n\u001B[32m    785\u001B[39m         size = \u001B[38;5;28mlen\u001B[39m(c)\n",
      "\u001B[36mFile \u001B[39m\u001B[32m~/PycharmProjects/sparkstudy/.venv/lib/python3.11/site-packages/pyspark/context.py:630\u001B[39m, in \u001B[36mSparkContext.defaultParallelism\u001B[39m\u001B[34m(self)\u001B[39m\n\u001B[32m    618\u001B[39m \u001B[38;5;129m@property\u001B[39m\n\u001B[32m    619\u001B[39m \u001B[38;5;28;01mdef\u001B[39;00m\u001B[38;5;250m \u001B[39m\u001B[34mdefaultParallelism\u001B[39m(\u001B[38;5;28mself\u001B[39m) -> \u001B[38;5;28mint\u001B[39m:\n\u001B[32m    620\u001B[39m \u001B[38;5;250m    \u001B[39m\u001B[33;03m\"\"\"\u001B[39;00m\n\u001B[32m    621\u001B[39m \u001B[33;03m    Default level of parallelism to use when not given by user (e.g. for reduce tasks)\u001B[39;00m\n\u001B[32m    622\u001B[39m \n\u001B[32m   (...)\u001B[39m\u001B[32m    628\u001B[39m \u001B[33;03m    True\u001B[39;00m\n\u001B[32m    629\u001B[39m \u001B[33;03m    \"\"\"\u001B[39;00m\n\u001B[32m--> \u001B[39m\u001B[32m630\u001B[39m     \u001B[38;5;28;01mreturn\u001B[39;00m \u001B[38;5;28;43mself\u001B[39;49m\u001B[43m.\u001B[49m\u001B[43m_jsc\u001B[49m\u001B[43m.\u001B[49m\u001B[43msc\u001B[49m\u001B[43m(\u001B[49m\u001B[43m)\u001B[49m.defaultParallelism()\n",
      "\u001B[36mFile \u001B[39m\u001B[32m~/PycharmProjects/sparkstudy/.venv/lib/python3.11/site-packages/py4j/java_gateway.py:1321\u001B[39m, in \u001B[36mJavaMember.__call__\u001B[39m\u001B[34m(self, *args)\u001B[39m\n\u001B[32m   1314\u001B[39m args_command, temp_args = \u001B[38;5;28mself\u001B[39m._build_args(*args)\n\u001B[32m   1316\u001B[39m command = proto.CALL_COMMAND_NAME +\\\n\u001B[32m   1317\u001B[39m     \u001B[38;5;28mself\u001B[39m.command_header +\\\n\u001B[32m   1318\u001B[39m     args_command +\\\n\u001B[32m   1319\u001B[39m     proto.END_COMMAND_PART\n\u001B[32m-> \u001B[39m\u001B[32m1321\u001B[39m answer = \u001B[38;5;28;43mself\u001B[39;49m\u001B[43m.\u001B[49m\u001B[43mgateway_client\u001B[49m\u001B[43m.\u001B[49m\u001B[43msend_command\u001B[49m\u001B[43m(\u001B[49m\u001B[43mcommand\u001B[49m\u001B[43m)\u001B[49m\n\u001B[32m   1322\u001B[39m return_value = get_return_value(\n\u001B[32m   1323\u001B[39m     answer, \u001B[38;5;28mself\u001B[39m.gateway_client, \u001B[38;5;28mself\u001B[39m.target_id, \u001B[38;5;28mself\u001B[39m.name)\n\u001B[32m   1325\u001B[39m \u001B[38;5;28;01mfor\u001B[39;00m temp_arg \u001B[38;5;129;01min\u001B[39;00m temp_args:\n",
      "\u001B[36mFile \u001B[39m\u001B[32m~/PycharmProjects/sparkstudy/.venv/lib/python3.11/site-packages/py4j/java_gateway.py:1036\u001B[39m, in \u001B[36mGatewayClient.send_command\u001B[39m\u001B[34m(self, command, retry, binary)\u001B[39m\n\u001B[32m   1015\u001B[39m \u001B[38;5;28;01mdef\u001B[39;00m\u001B[38;5;250m \u001B[39m\u001B[34msend_command\u001B[39m(\u001B[38;5;28mself\u001B[39m, command, retry=\u001B[38;5;28;01mTrue\u001B[39;00m, binary=\u001B[38;5;28;01mFalse\u001B[39;00m):\n\u001B[32m   1016\u001B[39m \u001B[38;5;250m    \u001B[39m\u001B[33;03m\"\"\"Sends a command to the JVM. This method is not intended to be\u001B[39;00m\n\u001B[32m   1017\u001B[39m \u001B[33;03m       called directly by Py4J users. It is usually called by\u001B[39;00m\n\u001B[32m   1018\u001B[39m \u001B[33;03m       :class:`JavaMember` instances.\u001B[39;00m\n\u001B[32m   (...)\u001B[39m\u001B[32m   1034\u001B[39m \u001B[33;03m     if `binary` is `True`.\u001B[39;00m\n\u001B[32m   1035\u001B[39m \u001B[33;03m    \"\"\"\u001B[39;00m\n\u001B[32m-> \u001B[39m\u001B[32m1036\u001B[39m     connection = \u001B[38;5;28;43mself\u001B[39;49m\u001B[43m.\u001B[49m\u001B[43m_get_connection\u001B[49m\u001B[43m(\u001B[49m\u001B[43m)\u001B[49m\n\u001B[32m   1037\u001B[39m     \u001B[38;5;28;01mtry\u001B[39;00m:\n\u001B[32m   1038\u001B[39m         response = connection.send_command(command)\n",
      "\u001B[36mFile \u001B[39m\u001B[32m~/PycharmProjects/sparkstudy/.venv/lib/python3.11/site-packages/py4j/clientserver.py:284\u001B[39m, in \u001B[36mJavaClient._get_connection\u001B[39m\u001B[34m(self)\u001B[39m\n\u001B[32m    281\u001B[39m     \u001B[38;5;28;01mpass\u001B[39;00m\n\u001B[32m    283\u001B[39m \u001B[38;5;28;01mif\u001B[39;00m connection \u001B[38;5;129;01mis\u001B[39;00m \u001B[38;5;28;01mNone\u001B[39;00m \u001B[38;5;129;01mor\u001B[39;00m connection.socket \u001B[38;5;129;01mis\u001B[39;00m \u001B[38;5;28;01mNone\u001B[39;00m:\n\u001B[32m--> \u001B[39m\u001B[32m284\u001B[39m     connection = \u001B[38;5;28;43mself\u001B[39;49m\u001B[43m.\u001B[49m\u001B[43m_create_new_connection\u001B[49m\u001B[43m(\u001B[49m\u001B[43m)\u001B[49m\n\u001B[32m    285\u001B[39m \u001B[38;5;28;01mreturn\u001B[39;00m connection\n",
      "\u001B[36mFile \u001B[39m\u001B[32m~/PycharmProjects/sparkstudy/.venv/lib/python3.11/site-packages/py4j/clientserver.py:291\u001B[39m, in \u001B[36mJavaClient._create_new_connection\u001B[39m\u001B[34m(self)\u001B[39m\n\u001B[32m    287\u001B[39m \u001B[38;5;28;01mdef\u001B[39;00m\u001B[38;5;250m \u001B[39m\u001B[34m_create_new_connection\u001B[39m(\u001B[38;5;28mself\u001B[39m):\n\u001B[32m    288\u001B[39m     connection = ClientServerConnection(\n\u001B[32m    289\u001B[39m         \u001B[38;5;28mself\u001B[39m.java_parameters, \u001B[38;5;28mself\u001B[39m.python_parameters,\n\u001B[32m    290\u001B[39m         \u001B[38;5;28mself\u001B[39m.gateway_property, \u001B[38;5;28mself\u001B[39m)\n\u001B[32m--> \u001B[39m\u001B[32m291\u001B[39m     \u001B[43mconnection\u001B[49m\u001B[43m.\u001B[49m\u001B[43mconnect_to_java_server\u001B[49m\u001B[43m(\u001B[49m\u001B[43m)\u001B[49m\n\u001B[32m    292\u001B[39m     \u001B[38;5;28mself\u001B[39m.set_thread_connection(connection)\n\u001B[32m    293\u001B[39m     \u001B[38;5;28;01mreturn\u001B[39;00m connection\n",
      "\u001B[36mFile \u001B[39m\u001B[32m~/PycharmProjects/sparkstudy/.venv/lib/python3.11/site-packages/py4j/clientserver.py:438\u001B[39m, in \u001B[36mClientServerConnection.connect_to_java_server\u001B[39m\u001B[34m(self)\u001B[39m\n\u001B[32m    435\u001B[39m \u001B[38;5;28;01mif\u001B[39;00m \u001B[38;5;28mself\u001B[39m.ssl_context:\n\u001B[32m    436\u001B[39m     \u001B[38;5;28mself\u001B[39m.socket = \u001B[38;5;28mself\u001B[39m.ssl_context.wrap_socket(\n\u001B[32m    437\u001B[39m         \u001B[38;5;28mself\u001B[39m.socket, server_hostname=\u001B[38;5;28mself\u001B[39m.java_address)\n\u001B[32m--> \u001B[39m\u001B[32m438\u001B[39m \u001B[38;5;28;43mself\u001B[39;49m\u001B[43m.\u001B[49m\u001B[43msocket\u001B[49m\u001B[43m.\u001B[49m\u001B[43mconnect\u001B[49m\u001B[43m(\u001B[49m\u001B[43m(\u001B[49m\u001B[38;5;28;43mself\u001B[39;49m\u001B[43m.\u001B[49m\u001B[43mjava_address\u001B[49m\u001B[43m,\u001B[49m\u001B[43m \u001B[49m\u001B[38;5;28;43mself\u001B[39;49m\u001B[43m.\u001B[49m\u001B[43mjava_port\u001B[49m\u001B[43m)\u001B[49m\u001B[43m)\u001B[49m\n\u001B[32m    439\u001B[39m \u001B[38;5;28mself\u001B[39m.stream = \u001B[38;5;28mself\u001B[39m.socket.makefile(\u001B[33m\"\u001B[39m\u001B[33mrb\u001B[39m\u001B[33m\"\u001B[39m)\n\u001B[32m    440\u001B[39m \u001B[38;5;28mself\u001B[39m.is_connected = \u001B[38;5;28;01mTrue\u001B[39;00m\n",
      "\u001B[31mConnectionRefusedError\u001B[39m: [Errno 61] Connection refused"
     ]
    }
   ],
   "execution_count": 34
  },
  {
   "metadata": {
    "ExecuteTime": {
     "end_time": "2025-04-22T14:40:04.644528Z",
     "start_time": "2025-04-22T14:40:04.511870Z"
    }
   },
   "cell_type": "code",
   "source": [
    "# 3. 최상단 함수\n",
    "def is_even(x):\n",
    "    return x % 2 == 0\n",
    "\n",
    "rdd = sc.parallelize(range(10))\n",
    "even_rdd = rdd.filter(is_even)\n",
    "print(even_rdd.collect())"
   ],
   "id": "3a1a703be68c8004",
   "outputs": [
    {
     "name": "stdout",
     "output_type": "stream",
     "text": [
      "[0, 2, 4, 6, 8]\n"
     ]
    }
   ],
   "execution_count": 17
  },
  {
   "metadata": {
    "ExecuteTime": {
     "end_time": "2025-04-22T14:45:19.138630Z",
     "start_time": "2025-04-22T14:45:18.964141Z"
    }
   },
   "cell_type": "code",
   "source": [
    "# 최상단\n",
    "def myFunc(s):\n",
    "    words = s.split(\" \")\n",
    "    return len(words)\n",
    "\n",
    "sc.textFile(\"../data/data.txt\").map(myFunc).collect()"
   ],
   "id": "e43b4d4217e07dc",
   "outputs": [
    {
     "data": {
      "text/plain": [
       "[4,\n",
       " 5,\n",
       " 1,\n",
       " 4,\n",
       " 1,\n",
       " 2,\n",
       " 1,\n",
       " 1,\n",
       " 6,\n",
       " 3,\n",
       " 4,\n",
       " 13,\n",
       " 8,\n",
       " 6,\n",
       " 3,\n",
       " 10,\n",
       " 7,\n",
       " 3,\n",
       " 7,\n",
       " 2,\n",
       " 25,\n",
       " 1,\n",
       " 1,\n",
       " 1,\n",
       " 1,\n",
       " 3,\n",
       " 1,\n",
       " 5,\n",
       " 4,\n",
       " 36,\n",
       " 2,\n",
       " 8,\n",
       " 5,\n",
       " 1,\n",
       " 1,\n",
       " 1,\n",
       " 1]"
      ]
     },
     "execution_count": 23,
     "metadata": {},
     "output_type": "execute_result"
    }
   ],
   "execution_count": 23
  },
  {
   "metadata": {
    "ExecuteTime": {
     "end_time": "2025-04-22T14:45:09.800124Z",
     "start_time": "2025-04-22T14:45:09.612499Z"
    }
   },
   "cell_type": "code",
   "source": [
    "# 클래스를 이용해서 다른 함수 사용 가능\n",
    "class MyClass(object):\n",
    "    def func(self, s):\n",
    "        return len(s.split(' '))\n",
    "    def doStuff(self, rdd):\n",
    "        return rdd.map(self.func)\n",
    "mc = MyClass()\n",
    "mc.doStuff(sc.textFile(\"../data/data.txt\")).collect()"
   ],
   "id": "f6cd17ccb863771e",
   "outputs": [
    {
     "data": {
      "text/plain": [
       "[4,\n",
       " 5,\n",
       " 1,\n",
       " 4,\n",
       " 1,\n",
       " 2,\n",
       " 1,\n",
       " 1,\n",
       " 6,\n",
       " 3,\n",
       " 4,\n",
       " 13,\n",
       " 8,\n",
       " 6,\n",
       " 3,\n",
       " 10,\n",
       " 7,\n",
       " 3,\n",
       " 7,\n",
       " 2,\n",
       " 25,\n",
       " 1,\n",
       " 1,\n",
       " 1,\n",
       " 1,\n",
       " 3,\n",
       " 1,\n",
       " 5,\n",
       " 4,\n",
       " 36,\n",
       " 2,\n",
       " 8,\n",
       " 5,\n",
       " 1,\n",
       " 1,\n",
       " 1,\n",
       " 1]"
      ]
     },
     "execution_count": 22,
     "metadata": {},
     "output_type": "execute_result"
    }
   ],
   "execution_count": 22
  },
  {
   "metadata": {},
   "cell_type": "markdown",
   "source": [
    "#### Understanding closures\n",
    "Spark 의 어려운점 한가지는 클러스터에서 코드 실행 시 변수(variable) 과 메소드(method) 범위와 생애주기(life cycle) 이다.  \n",
    "범위 밖에서 변수 수정이 일어나는 RDD 작업은 자주 혼란스럽다.   "
   ],
   "id": "352b46741a1cb41b"
  },
  {
   "metadata": {
    "ExecuteTime": {
     "end_time": "2025-04-23T15:39:05.869065Z",
     "start_time": "2025-04-23T15:39:03.613088Z"
    }
   },
   "cell_type": "code",
   "source": [
    "# 실행 ㄴㄴ \n",
    "counter = 0 \n",
    "rdd = sc.parallelize(range(10))\n",
    "\n",
    "def increament_counter(x):\n",
    "    global counter \n",
    "    counter += x\n",
    "\n",
    "rdd.foreach(increament_counter)\n",
    "\n",
    "print(\"Counter value:\", counter)"
   ],
   "id": "203a9d4cb7379f16",
   "outputs": [
    {
     "name": "stderr",
     "output_type": "stream",
     "text": [
      "[Stage 0:>                                                          (0 + 1) / 1]\r"
     ]
    },
    {
     "name": "stdout",
     "output_type": "stream",
     "text": [
      "Counter value: 0\n"
     ]
    },
    {
     "name": "stderr",
     "output_type": "stream",
     "text": [
      "                                                                                \r"
     ]
    }
   ],
   "execution_count": 3
  },
  {
   "metadata": {},
   "cell_type": "markdown",
   "source": [
    "##### Local vs. cluster modes \n",
    "작업을 수행하려면, Spark 는 RDD 작업을 tasks 로 쪼갬, 각 task 는 executor 에 의해 실행  \n",
    "execution 전에 Spark 는 task 의 **closure**을 계산함  \n",
    "**Closure**은 해당 RDD를 계산하기 위해 executor에게 variable 과 method 가 보여야함(visible)(위 경우 foreach())  \n",
    "해당 **closure**를 직렬화하여 각 executor 로 전송  \n",
    "\n",
    "Closure 내의 변수는 각 executor 에 복사된 변수를 보냄  \n",
    "즉, 위에서 foreach 안의 함수에서 참조한 counter 는 더이상 driver node 의 counter 와 다름  \n",
    "driver 메모리에 counter 는 있지만 executor 에게 보여지지 않음  \n",
    "executor 는 오르지 직열화되고 복사된 counter 만 보임  \n",
    "즉, driver 가 가진 counter 는 여전히 0  \n",
    "\n",
    "로컬 모드, 어느 상황에서, foreach 함수는 driver 메모리에 있는 counter 를 참조할 가능성이 있다.  \n",
    "\n",
    "생각한대로 보장하기 위해서는 **Accumulator** 사용해야함  \n",
    "Spark의 accumulator는 클러스터 내에 여러 노드로 분산처리할 때 안전하게 변수를 업데이트 함  \n",
    "Accumulator 파트에서 자세한 내용 다룸  \n",
    "\n",
    "일반적으로 closure - 반복문이나 로컬에서만 정의된 method 같은 구조들 - 은 전역 상태(global state)를 변경하는데 사용 X \n",
    "Spark는 closure 밖에서 참조된 object의 변형을 정의 혹은 보장하지 않음  \n",
    "로컬에서는 혹시 운수가 좋아서 될지 몰라도 클러스터 환경에서는 안됨  \n",
    "global 변수로 합을 구하지 말고 accumulator 사용 권장   "
   ],
   "id": "da13c82e903687d5"
  },
  {
   "metadata": {},
   "cell_type": "code",
   "outputs": [],
   "execution_count": null,
   "source": "",
   "id": "151a5fa8f1a9e353"
  }
 ],
 "metadata": {
  "kernelspec": {
   "display_name": "Python 3",
   "language": "python",
   "name": "python3"
  },
  "language_info": {
   "codemirror_mode": {
    "name": "ipython",
    "version": 2
   },
   "file_extension": ".py",
   "mimetype": "text/x-python",
   "name": "python",
   "nbconvert_exporter": "python",
   "pygments_lexer": "ipython2",
   "version": "2.7.6"
  }
 },
 "nbformat": 4,
 "nbformat_minor": 5
}
