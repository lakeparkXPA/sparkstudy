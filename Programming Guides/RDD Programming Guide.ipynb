{
 "cells": [
  {
   "metadata": {},
   "cell_type": "markdown",
   "source": [
    "## Linking with Spark\n",
    "pyspark는 driver 와 worker들의 python version 이 동일해야한다."
   ],
   "id": "5aab6d67e8801f95"
  },
  {
   "metadata": {
    "ExecuteTime": {
     "end_time": "2025-04-22T14:35:58.964485Z",
     "start_time": "2025-04-22T14:35:58.592232Z"
    }
   },
   "cell_type": "code",
   "source": "from pyspark import SparkContext, SparkConf",
   "id": "initial_id",
   "outputs": [],
   "execution_count": 3
  },
  {
   "metadata": {},
   "cell_type": "markdown",
   "source": [
    "## Initializing Spark \n",
    "### SparkContext\n",
    "어떻게 cluster 에 접근할지 Spark 에게 알려줌\n",
    "### SparkConf\n",
    "내 application 정보 저장  \n",
    "### SparkSession 와 SparkConf 차이?\n",
    "#### 공통점\n",
    "Spark 앱 진입점  \n",
    "<br>\n",
    "\n",
    "#### 차이점\n",
    "SparkSession 은 2.0 부터 도입된 새로운 진입점  \n",
    "SparkContext 는 RDD API 중심 지원, SparkSession 은 RDD + DataFrame + SQL 등 모든 API 지원  \n",
    "SparkSession 내부에 SparkContext 포함(spark.sparkContext)"
   ],
   "id": "b98adda65ff6fc97"
  },
  {
   "metadata": {
    "ExecuteTime": {
     "end_time": "2025-04-22T14:36:08.560052Z",
     "start_time": "2025-04-22T14:36:02.813160Z"
    }
   },
   "cell_type": "code",
   "source": [
    "conf = SparkConf().setAppName(\"RDD Programming Guide\").setMaster(\"local\")\n",
    "sc = SparkContext(conf=conf)"
   ],
   "id": "67bb26435cefeb6b",
   "outputs": [
    {
     "name": "stderr",
     "output_type": "stream",
     "text": [
      "25/04/22 23:36:06 WARN Utils: Your hostname, gimjunhaui-MacBookPro.local resolves to a loopback address: 127.0.0.1; using 192.168.45.202 instead (on interface en0)\n",
      "25/04/22 23:36:06 WARN Utils: Set SPARK_LOCAL_IP if you need to bind to another address\n",
      "Setting default log level to \"WARN\".\n",
      "To adjust logging level use sc.setLogLevel(newLevel). For SparkR, use setLogLevel(newLevel).\n",
      "25/04/22 23:36:07 WARN NativeCodeLoader: Unable to load native-hadoop library for your platform... using builtin-java classes where applicable\n"
     ]
    }
   ],
   "execution_count": 4
  },
  {
   "metadata": {},
   "cell_type": "markdown",
   "source": [
    "### Using shell\n",
    "\n",
    "shell 에서 사용법은 다음에   \n",
    "python driver 설정 내용이 있는데 필요할 때 알아보자"
   ],
   "id": "875d049b7818bf4b"
  },
  {
   "metadata": {},
   "cell_type": "markdown",
   "source": [
    "## Resilient Distributed Datasets (RDDs)\n",
    "RDDs 는 고장에 강하고 병렬로 처리할 수 있는 데이터 요소들의 집합  \n",
    "RDDs 생성은 드라이버 프로그램에 있는 데이터 요소들 혹은 외부 저장장치에 있는 데이터셋 (HDFS, HBase, Hadoop 기반)"
   ],
   "id": "4c6f8baf184b4f11"
  },
  {
   "metadata": {},
   "cell_type": "markdown",
   "source": [
    "### Parallelized Collection\n",
    "Parallelized Collection은 드라이버 프로그램에서 기존의 리스트나 반복 가능한 객체에 대해 SparkContext의 parallelize 메소드를 호출함으로 생성  \n",
    "데이터 요소들은 복사되어 병렬로 처리할 수 있는 RDDs 가 됨"
   ],
   "id": "5bf196f02d8bd5bc"
  },
  {
   "metadata": {
    "ExecuteTime": {
     "end_time": "2025-04-17T15:06:42.043886Z",
     "start_time": "2025-04-17T15:06:42.017456Z"
    }
   },
   "cell_type": "code",
   "source": [
    "data = [1, 2, 3, 4, 5]\n",
    "distData = sc.parallelize(data)\n",
    "distData"
   ],
   "id": "4ff25570f5552022",
   "outputs": [
    {
     "ename": "MemoryError",
     "evalue": "",
     "output_type": "error",
     "traceback": [
      "\u001B[31m---------------------------------------------------------------------------\u001B[39m",
      "\u001B[31mMemoryError\u001B[39m                               Traceback (most recent call last)",
      "\u001B[36mCell\u001B[39m\u001B[36m \u001B[39m\u001B[32mIn[23]\u001B[39m\u001B[32m, line 1\u001B[39m\n\u001B[32m----> \u001B[39m\u001B[32m1\u001B[39m data = \u001B[38;5;28;43mlist\u001B[39;49m\u001B[43m(\u001B[49m\u001B[38;5;28;43mrange\u001B[39;49m\u001B[43m(\u001B[49m\u001B[32;43m1000000000000000\u001B[39;49m\u001B[43m)\u001B[49m\u001B[43m)\u001B[49m\n\u001B[32m      2\u001B[39m distData = sc.parallelize(data)\n\u001B[32m      3\u001B[39m distData\n",
      "\u001B[31mMemoryError\u001B[39m: "
     ]
    }
   ],
   "execution_count": 23
  },
  {
   "metadata": {},
   "cell_type": "markdown",
   "source": [
    "일단 생성을 하면 분산된 데이터셋(distData) 는 병렬로 처리 가능  \n",
    "예를 들어 아래와 같이 코드를 작성하면 모든 요소의 합을 구할 수 있다."
   ],
   "id": "278d2b28a5904585"
  },
  {
   "metadata": {
    "ExecuteTime": {
     "end_time": "2025-04-16T14:37:33.886008Z",
     "start_time": "2025-04-16T14:37:33.749842Z"
    }
   },
   "cell_type": "code",
   "source": "distData.reduce(lambda a, b: a + b)",
   "id": "bb0bf386dc7ef95b",
   "outputs": [
    {
     "data": {
      "text/plain": [
       "15"
      ]
     },
     "execution_count": 18,
     "metadata": {},
     "output_type": "execute_result"
    }
   ],
   "execution_count": 18
  },
  {
   "metadata": {},
   "cell_type": "markdown",
   "source": [
    "Parallelized Collection 에서 가장 중요한 요소(변수) 하나는 데이터셋을 몇개의 파티션으로 나눌지이다.  \n",
    "Spark 는 각 클러스터의 파티션에 대해 한가지 task 만 실행  \n",
    "보통 클러스터의 CPU 당 2~4 파티션으로 나눈다. \n",
    "Spark 는 자동으로 클러스터 기반으로 파티션 갯수를 나눈다.  \n",
    "그러나, 수동으로 몇개의 파티션을 나눌지 설정이 가능"
   ],
   "id": "b4fd0a7cc3bd8c15"
  },
  {
   "metadata": {
    "ExecuteTime": {
     "end_time": "2025-04-16T14:37:35.194941Z",
     "start_time": "2025-04-16T14:37:35.187805Z"
    }
   },
   "cell_type": "code",
   "source": "sc.parallelize(data, 10) # 10개의 파티션으로 나눈다",
   "id": "2551e051cf559ee9",
   "outputs": [
    {
     "data": {
      "text/plain": [
       "ParallelCollectionRDD[30] at readRDDFromFile at PythonRDD.scala:289"
      ]
     },
     "execution_count": 19,
     "metadata": {},
     "output_type": "execute_result"
    }
   ],
   "execution_count": 19
  },
  {
   "metadata": {
    "ExecuteTime": {
     "end_time": "2025-04-17T15:22:23.458500Z",
     "start_time": "2025-04-17T15:22:17.520780Z"
    }
   },
   "cell_type": "code",
   "source": [
    "# 실험 시간 갯수\n",
    "# 1~1000억 하니 컴퓨터 메모리가 못버틴다...\n",
    "# 메모리 에러 발생 -> SparkConf 기본 메모리가 1G 로 되어 있어서 아래와같이 설정\n",
    "data1 = list(range(100000000))\n",
    "conf1 = SparkConf().setAppName(\"MyApp\").set(\"spark.executor.memory\", \"2g\").set(\"spark.driver.memory\", \"2g\")\n",
    "sc1 = SparkContext(conf=conf1)"
   ],
   "id": "2e29cd834ae4d027",
   "outputs": [
    {
     "name": "stderr",
     "output_type": "stream",
     "text": [
      "25/04/18 00:22:21 WARN Utils: Your hostname, gimjunhaui-MacBookPro.local resolves to a loopback address: 127.0.0.1; using 192.168.45.202 instead (on interface en0)\n",
      "25/04/18 00:22:21 WARN Utils: Set SPARK_LOCAL_IP if you need to bind to another address\n",
      "Setting default log level to \"WARN\".\n",
      "To adjust logging level use sc.setLogLevel(newLevel). For SparkR, use setLogLevel(newLevel).\n",
      "25/04/18 00:22:22 WARN NativeCodeLoader: Unable to load native-hadoop library for your platform... using builtin-java classes where applicable\n"
     ]
    }
   ],
   "execution_count": 2
  },
  {
   "metadata": {
    "ExecuteTime": {
     "end_time": "2025-04-17T15:19:13.103475Z",
     "start_time": "2025-04-17T15:18:48.271472Z"
    }
   },
   "cell_type": "code",
   "source": [
    "distData1 = sc1.parallelize(data1, 2)\n",
    "distData1.reduce(lambda a, b: a + b)"
   ],
   "id": "df4204bc63ad9e34",
   "outputs": [
    {
     "name": "stderr",
     "output_type": "stream",
     "text": [
      "25/04/18 00:19:01 WARN TaskSetManager: Stage 0 contains a task of very large size (245355 KiB). The maximum recommended task size is 1000 KiB.\n",
      "                                                                                \r"
     ]
    },
    {
     "data": {
      "text/plain": [
       "4999999950000000"
      ]
     },
     "execution_count": 3,
     "metadata": {},
     "output_type": "execute_result"
    }
   ],
   "execution_count": 3
  },
  {
   "metadata": {
    "ExecuteTime": {
     "end_time": "2025-04-17T15:22:42.784566Z",
     "start_time": "2025-04-17T15:22:25.693365Z"
    }
   },
   "cell_type": "code",
   "source": [
    "distData2 = sc1.parallelize(data1, 10)\n",
    "distData2.reduce(lambda a, b: a + b)"
   ],
   "id": "9d9f8c086c6d7aaf",
   "outputs": [
    {
     "name": "stderr",
     "output_type": "stream",
     "text": [
      "25/04/18 00:22:37 WARN TaskSetManager: Stage 0 contains a task of very large size (48972 KiB). The maximum recommended task size is 1000 KiB.\n",
      "                                                                                \r"
     ]
    },
    {
     "data": {
      "text/plain": [
       "4999999950000000"
      ]
     },
     "execution_count": 3,
     "metadata": {},
     "output_type": "execute_result"
    }
   ],
   "execution_count": 3
  },
  {
   "metadata": {},
   "cell_type": "markdown",
   "source": [
    "#### 2개 파티션 vs 10개 파티션 시간 비교\n",
    "1~1억 이 들어있는 List 의 sum 을 하나씩 더해서 구하는 경우  \n",
    "2개 파티션 24.832초  \n",
    "10개 파티션 17.91초  \n",
    "나눠서 하면 빠르다!"
   ],
   "id": "a1e2d9b4c2872256"
  },
  {
   "metadata": {},
   "cell_type": "markdown",
   "source": [
    "### External Datasets\n",
    "PySpark은 Hadoop 에서 호환되는 모든 저장 source로 분산된 데이터셋 생성이 가능 (local file system, HDFS, Cassandra, HBase, AWS S3 등)  \n",
    "Spark 는 텍스트파일 sequence 파일 혹은 다른 Hadoop 입력형식을 지원한다.  \n",
    "\n",
    "<strong>textFile</strong> method 을 사용해서 텍스트파일 RDDs 생성이 가능  \n",
    "이 method 은 파일의 URI(로컬 경로, hdfs://, s3a:// 등의 URI) 를 가지고 줄 단위로 읽는다.  \n",
    "생성된 RDDs 텍스트파일은 dataset 기능을 사용가능하다."
   ],
   "id": "29448de8397f1417"
  },
  {
   "metadata": {
    "ExecuteTime": {
     "end_time": "2025-04-16T14:37:36.682930Z",
     "start_time": "2025-04-16T14:37:36.457149Z"
    }
   },
   "cell_type": "code",
   "source": [
    "distFile = sc.textFile(\"../data/data.txt\")\n",
    "# distFile(data.txt) 의 총 길이\n",
    "distFile.map(lambda s: len(s)).reduce(lambda a, b: a + b)"
   ],
   "id": "3ed7bbf478fb2c4a",
   "outputs": [
    {
     "data": {
      "text/plain": [
       "999"
      ]
     },
     "execution_count": 20,
     "metadata": {},
     "output_type": "execute_result"
    }
   ],
   "execution_count": 20
  },
  {
   "metadata": {},
   "cell_type": "markdown",
   "source": [
    "Spark에서 파일 읽는 경우 참고 사항 (textFile)\n",
    "* 만약 로컬 파일을 쓰는 경우 노드 내에도 같은 경로에 접근 가능한 파일이 존재해야한다. 모든 노드에 복사 혹은 노드에 공유된 network-mounted 파일 시스템 사용\n",
    "* 파일을 읽을때 파일경로(sample.txt), 와일드카드(\\*.txt 같은), 압축파일(*.gz) 이 사용 가능하다\n",
    "* textFile에는 두번째 인자가 있는데 이는 파일이 몇개의 파티션으로 구성될지 설정. 기본값으로 파일블럭(블럭은 HDFS 에서 128MB 기본값)당 1개의 파티션 생성, block 갯수 > 파티션 갯수"
   ],
   "id": "c24e4d366b8c230a"
  },
  {
   "metadata": {},
   "cell_type": "markdown",
   "source": [
    "Spark 파이썬 API 지원하는 데이터 형식\n",
    "* <strong>SparkContext.wholeTextFiles</strong> 은 경로 안에 있는 작은 여러 텍스트 파일을 읽고, 각각 (파일명, 내용) 쌍으로 리턴함. textFile은 다르게 각파일에서 각줄당 1개의 결과만 리턴\n",
    "* <strong>RDD.saveAsPickleFile</strong> and <strong>SparkContext.pickleFile</strong>은 RDD를 간단한 형식인 pickle 의 Python object로 저장을 지원, 배치가 pickle serialization 에 사용, 배치 기본 크기는 10.\n",
    "* <strong>SequenceFile</strong> 와 <strong>Hadoop Input/Output</strong>형식"
   ],
   "id": "1c5e45998042672a"
  },
  {
   "metadata": {},
   "cell_type": "markdown",
   "source": "### Spark SQL 의 read/write 지원은 실험 단계. 고수를 위한거므로 일단은 패스...",
   "id": "f1c2fd87f9816f32"
  },
  {
   "metadata": {},
   "cell_type": "markdown",
   "source": [
    "### RDD Operations\n",
    "2가지의 operation 지원 \n",
    "transformations, actions\n",
    "\n",
    " "
   ],
   "id": "e1b4ddc9b22570d6"
  },
  {
   "metadata": {},
   "cell_type": "markdown",
   "source": [
    "#### transformations    \n",
    "기존의 dataset으로 새로운 dataset 생성  "
   ],
   "id": "f01b011177e3e865"
  },
  {
   "metadata": {},
   "cell_type": "markdown",
   "source": [
    "#### actions \n",
    "dataset의 실행 결과인 하나의 값을 driver program 으로 전달."
   ],
   "id": "a98568def841918e"
  },
  {
   "metadata": {},
   "cell_type": "code",
   "outputs": [],
   "execution_count": null,
   "source": [
    "# 이해를 돕기위한 예\n",
    "distFile = sc.textFile(\"../data/data.txt\")\n",
    "distFile.map(lambda s: len(s)).reduce(lambda a, b: a + b)"
   ],
   "id": "7bbeba2c9c57f70e"
  },
  {
   "metadata": {},
   "cell_type": "markdown",
   "source": [
    "<code>distFile.map(lambda s: len(s))</code> 은 transformations 에 해당  \n",
    "각 줄마다 길이를 갖는 새로운 dataset 으로 변환  "
   ],
   "id": "c98156af546b6d9a"
  },
  {
   "metadata": {},
   "cell_type": "markdown",
   "source": [
    "<code>distFile.map(lambda s: len(s)).reduce(lambda a, b: a + b)</code> 은 actions 에 해당  \n",
    "위의 transformation 한 dataset 에 대해서 각줄의 길이의 합(전체 길이) 를 하나의 값으로 반환  \n",
    "(참고: reduceByKey 는 distributed dataset 반환)"
   ],
   "id": "dd821549bdd369bf"
  },
  {
   "metadata": {},
   "cell_type": "markdown",
   "source": [
    "모든 transformations 은 lazy(게으름), 실제로 실행을 바로 하지 않음.  \n",
    "transformation 해야하는거만 기억해둠.  \n",
    "action 이 일어나지 않으면 실제 행하지 않음.   \n",
    "이를 통해 Spark가 더 효율적으로 실행 가능 "
   ],
   "id": "ef54c6db331d26af"
  },
  {
   "metadata": {},
   "cell_type": "markdown",
   "source": [
    "기본적으로 transform RDD 는 매번 action 이 일어나면 실행하지만, 자주 사용하는 RDD 를 메모리에 <strong>persist</strong>(cache, 캐싱) 가능.  \n",
    "자주 쓰이므로 메모리에 올려두고 더 빠르게 접근 가능(매번 transform 하지 않아도 된다)  \n",
    "추가로 RDD를 디스크에 persisting 하거나 여러 노드에 복제할 수 있다.  "
   ],
   "id": "228b59c3a30b2045"
  },
  {
   "metadata": {},
   "cell_type": "markdown",
   "source": "#### Basics",
   "id": "4acf3be1f83dfd"
  },
  {
   "metadata": {},
   "cell_type": "code",
   "outputs": [],
   "execution_count": null,
   "source": [
    "lines = sc.textFile(\"../data/data.txt\") # 파일 위치를 그저 가르킬 뿐, 메모리에 올리거나 해당 RDD 에 대한 action 이 없으면 행하지 않음\n",
    "lineLengths = lines.map(lambda s: len(s)) # transformation, 당장 실행하지 않음, 게으름\n",
    "totalLength = lineLengths.reduce(lambda a, b: a + b) # action, 여러 장치에서 돌리기 위해 task 단위로 할일을 나눔, 각 장치에서 map 과 reduce 실행 지금 실행하는 위치에서만 결과값을 반환 받음\n",
    "print(totalLength)\n",
    "\n",
    "# 나중에 lineLengths 를 쓴다면\n",
    "lineLengths.persist()"
   ],
   "id": "55c600b926301e3a"
  },
  {
   "metadata": {},
   "cell_type": "markdown",
   "source": [
    "#### Passing Functions to Spark\n",
    "클러스터 내에서 실행하는 Spark API는 driver program 이 보내주는 function 에 의지한다.  \n",
    "3가지 권장된 방법:  \n",
    "1. Lambda 표현식(Lambda는 multi-statement function(여러줄로 된 함수)과 return 값이 없는 것을 지원하지 않음\n",
    "2. spark 연산을 호출하는 함수 내부에 로컬 함수를 정의하는 방식(코드가 좀 길도, 외부에서 안 쓰는 함수)\n",
    "3. 함수 정의를 스크림트나 모듈의 최상단에 위치시키는 것 (재사용 시, 여러 spark 작업에서 쓸 때)"
   ],
   "id": "77396be27070b894"
  },
  {
   "metadata": {},
   "cell_type": "code",
   "outputs": [],
   "execution_count": null,
   "source": [
    "# 1. lambda 표현식\n",
    "rdd = sc.textFile(\"../data/data.txt\")\n",
    "rdd.map(lambda s: len(s)).reduce(lambda a, b: a + b)"
   ],
   "id": "d49c651b976d3da2"
  },
  {
   "metadata": {
    "ExecuteTime": {
     "end_time": "2025-04-22T14:39:57.518820Z",
     "start_time": "2025-04-22T14:39:57.364642Z"
    }
   },
   "cell_type": "code",
   "source": [
    "# 2. 로컬 함수 사용\n",
    "def process_data():\n",
    "    def is_even(x):\n",
    "        return x % 2 == 0\n",
    "    \n",
    "    rdd = sc.parallelize(range(10))\n",
    "    even_rdd = rdd.filter(is_even)\n",
    "    print(even_rdd.collect())\n",
    "process_data()"
   ],
   "id": "1b4c40967ca95b43",
   "outputs": [
    {
     "name": "stdout",
     "output_type": "stream",
     "text": [
      "[0, 2, 4, 6, 8]\n"
     ]
    }
   ],
   "execution_count": 16
  },
  {
   "metadata": {
    "ExecuteTime": {
     "end_time": "2025-04-22T14:40:04.644528Z",
     "start_time": "2025-04-22T14:40:04.511870Z"
    }
   },
   "cell_type": "code",
   "source": [
    "# 3. 최상단 함수\n",
    "def is_even(x):\n",
    "    return x % 2 == 0\n",
    "\n",
    "rdd = sc.parallelize(range(10))\n",
    "even_rdd = rdd.filter(is_even)\n",
    "print(even_rdd.collect())"
   ],
   "id": "3a1a703be68c8004",
   "outputs": [
    {
     "name": "stdout",
     "output_type": "stream",
     "text": [
      "[0, 2, 4, 6, 8]\n"
     ]
    }
   ],
   "execution_count": 17
  },
  {
   "metadata": {
    "ExecuteTime": {
     "end_time": "2025-04-22T14:45:19.138630Z",
     "start_time": "2025-04-22T14:45:18.964141Z"
    }
   },
   "cell_type": "code",
   "source": [
    "# 최상단\n",
    "def myFunc(s):\n",
    "    words = s.split(\" \")\n",
    "    return len(words)\n",
    "\n",
    "sc.textFile(\"../data/data.txt\").map(myFunc).collect()"
   ],
   "id": "e43b4d4217e07dc",
   "outputs": [
    {
     "data": {
      "text/plain": [
       "[4,\n",
       " 5,\n",
       " 1,\n",
       " 4,\n",
       " 1,\n",
       " 2,\n",
       " 1,\n",
       " 1,\n",
       " 6,\n",
       " 3,\n",
       " 4,\n",
       " 13,\n",
       " 8,\n",
       " 6,\n",
       " 3,\n",
       " 10,\n",
       " 7,\n",
       " 3,\n",
       " 7,\n",
       " 2,\n",
       " 25,\n",
       " 1,\n",
       " 1,\n",
       " 1,\n",
       " 1,\n",
       " 3,\n",
       " 1,\n",
       " 5,\n",
       " 4,\n",
       " 36,\n",
       " 2,\n",
       " 8,\n",
       " 5,\n",
       " 1,\n",
       " 1,\n",
       " 1,\n",
       " 1]"
      ]
     },
     "execution_count": 23,
     "metadata": {},
     "output_type": "execute_result"
    }
   ],
   "execution_count": 23
  },
  {
   "metadata": {
    "ExecuteTime": {
     "end_time": "2025-04-22T14:45:09.800124Z",
     "start_time": "2025-04-22T14:45:09.612499Z"
    }
   },
   "cell_type": "code",
   "source": [
    "# 클래스를 이용해서 다른 함수 사용 가능\n",
    "class MyClass(object):\n",
    "    def func(self, s):\n",
    "        return len(s.split(' '))\n",
    "    def doStuff(self, rdd):\n",
    "        return rdd.map(self.func)\n",
    "mc = MyClass()\n",
    "mc.doStuff(sc.textFile(\"../data/data.txt\")).collect()"
   ],
   "id": "f6cd17ccb863771e",
   "outputs": [
    {
     "data": {
      "text/plain": [
       "[4,\n",
       " 5,\n",
       " 1,\n",
       " 4,\n",
       " 1,\n",
       " 2,\n",
       " 1,\n",
       " 1,\n",
       " 6,\n",
       " 3,\n",
       " 4,\n",
       " 13,\n",
       " 8,\n",
       " 6,\n",
       " 3,\n",
       " 10,\n",
       " 7,\n",
       " 3,\n",
       " 7,\n",
       " 2,\n",
       " 25,\n",
       " 1,\n",
       " 1,\n",
       " 1,\n",
       " 1,\n",
       " 3,\n",
       " 1,\n",
       " 5,\n",
       " 4,\n",
       " 36,\n",
       " 2,\n",
       " 8,\n",
       " 5,\n",
       " 1,\n",
       " 1,\n",
       " 1,\n",
       " 1]"
      ]
     },
     "execution_count": 22,
     "metadata": {},
     "output_type": "execute_result"
    }
   ],
   "execution_count": 22
  },
  {
   "metadata": {},
   "cell_type": "code",
   "outputs": [],
   "execution_count": null,
   "source": "",
   "id": "151a5fa8f1a9e353"
  }
 ],
 "metadata": {
  "kernelspec": {
   "display_name": "Python 3",
   "language": "python",
   "name": "python3"
  },
  "language_info": {
   "codemirror_mode": {
    "name": "ipython",
    "version": 2
   },
   "file_extension": ".py",
   "mimetype": "text/x-python",
   "name": "python",
   "nbconvert_exporter": "python",
   "pygments_lexer": "ipython2",
   "version": "2.7.6"
  }
 },
 "nbformat": 4,
 "nbformat_minor": 5
}
