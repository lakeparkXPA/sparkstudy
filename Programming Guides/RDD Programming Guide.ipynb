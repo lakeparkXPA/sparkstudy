{
 "cells": [
  {
   "metadata": {},
   "cell_type": "markdown",
   "source": [
    "## Linking with Spark\n",
    "driver 와 worker들의 python version 이 동일해야한다."
   ],
   "id": "5aab6d67e8801f95"
  },
  {
   "metadata": {
    "ExecuteTime": {
     "end_time": "2025-04-16T13:19:57.225847Z",
     "start_time": "2025-04-16T13:19:57.022194Z"
    }
   },
   "cell_type": "code",
   "source": "from pyspark import SparkContext, SparkConf",
   "id": "initial_id",
   "outputs": [],
   "execution_count": 3
  },
  {
   "metadata": {},
   "cell_type": "markdown",
   "source": [
    "## Initializing Spark \n",
    "### SparkContext\n",
    "어떻게 cluster 에 접근할지 Spark 에게 알려줌\n",
    "### SparkConf\n",
    "내 application 정보 저장"
   ],
   "id": "b98adda65ff6fc97"
  },
  {
   "metadata": {
    "ExecuteTime": {
     "end_time": "2025-04-16T13:20:05.939315Z",
     "start_time": "2025-04-16T13:20:01.809046Z"
    }
   },
   "cell_type": "code",
   "source": [
    "conf = SparkConf().setAppName(\"RDD Programming Guide\").setMaster(\"local\")\n",
    "sc = SparkContext(conf=conf)"
   ],
   "id": "67bb26435cefeb6b",
   "outputs": [
    {
     "name": "stderr",
     "output_type": "stream",
     "text": [
      "Setting default log level to \"WARN\".\n",
      "To adjust logging level use sc.setLogLevel(newLevel). For SparkR, use setLogLevel(newLevel).\n",
      "25/04/16 22:20:04 WARN NativeCodeLoader: Unable to load native-hadoop library for your platform... using builtin-java classes where applicable\n"
     ]
    }
   ],
   "execution_count": 4
  },
  {
   "metadata": {},
   "cell_type": "markdown",
   "source": [
    "### Using shell\n",
    "\n",
    "shell 에서 사용법은 다으메  \n",
    "python driver 설정 내용이 있는데 필요할 때 알아보자"
   ],
   "id": "875d049b7818bf4b"
  },
  {
   "metadata": {},
   "cell_type": "markdown",
   "source": [
    "## Resilient Distributed Datasets (RDDs)\n",
    "RDDs 는 고장에 강하고 병렬로 처리할 수 있는 데이터 요소들의 집합  \n",
    "RDDs 생성은 드라이버 프로그램에 있는 데이터 요소들 혹은 외부 저장장치에 있는 데이터셋 (HDFS, HBase, Hadoop 기반)"
   ],
   "id": "4c6f8baf184b4f11"
  },
  {
   "metadata": {},
   "cell_type": "markdown",
   "source": [
    "### Parallelized Collection\n",
    "Parallelized Collection은 드라이버 프로그램에서 기존의 리스트나 반복 가능한 객체에 대해 SparkContext의 parallelize 메소드를 호출함으로 생성  \n",
    "데이터 요소들은 복사되어 병렬로 처리할 수 있는 RDDs 가 됨"
   ],
   "id": "5bf196f02d8bd5bc"
  },
  {
   "metadata": {
    "ExecuteTime": {
     "end_time": "2025-04-16T14:37:32.762933Z",
     "start_time": "2025-04-16T14:37:32.755196Z"
    }
   },
   "cell_type": "code",
   "source": [
    "data = [1, 2, 3, 4, 5]\n",
    "distData = sc.parallelize(data)\n",
    "distData"
   ],
   "id": "4ff25570f5552022",
   "outputs": [
    {
     "data": {
      "text/plain": [
       "ParallelCollectionRDD[28] at readRDDFromFile at PythonRDD.scala:289"
      ]
     },
     "execution_count": 17,
     "metadata": {},
     "output_type": "execute_result"
    }
   ],
   "execution_count": 17
  },
  {
   "metadata": {},
   "cell_type": "markdown",
   "source": [
    "일단 생성을 하면 분산된 데이터셋(distData) 는 병렬로 처리 가능  \n",
    "예를 들어 아래와 같이 코드를 작성하면 모든 요소의 합을 구할 수 있다."
   ],
   "id": "278d2b28a5904585"
  },
  {
   "metadata": {
    "ExecuteTime": {
     "end_time": "2025-04-16T14:37:33.886008Z",
     "start_time": "2025-04-16T14:37:33.749842Z"
    }
   },
   "cell_type": "code",
   "source": "distData.reduce(lambda a, b: a + b)",
   "id": "bb0bf386dc7ef95b",
   "outputs": [
    {
     "data": {
      "text/plain": [
       "15"
      ]
     },
     "execution_count": 18,
     "metadata": {},
     "output_type": "execute_result"
    }
   ],
   "execution_count": 18
  },
  {
   "metadata": {},
   "cell_type": "markdown",
   "source": [
    "Parallelized Collection 에서 가장 중요한 요소(변수) 하나는 데이터셋을 몇개의 파티션으로 나눌지이다.  \n",
    "Spark 는 각 클러스터의 파티션에 대해 한가지 task 만 실행  \n",
    "보통 클러스터의 CPU 당 2~4 파티션으로 나눈다. \n",
    "Spark 는 자동으로 클러스터 기반으로 파티션 갯수를 나눈다.  \n",
    "그러나, 수동으로 몇개의 파티션을 나눌지 설정이 가능"
   ],
   "id": "b4fd0a7cc3bd8c15"
  },
  {
   "metadata": {
    "ExecuteTime": {
     "end_time": "2025-04-16T14:37:35.194941Z",
     "start_time": "2025-04-16T14:37:35.187805Z"
    }
   },
   "cell_type": "code",
   "source": "sc.parallelize(data, 10) # 10개로 나눈다",
   "id": "2551e051cf559ee9",
   "outputs": [
    {
     "data": {
      "text/plain": [
       "ParallelCollectionRDD[30] at readRDDFromFile at PythonRDD.scala:289"
      ]
     },
     "execution_count": 19,
     "metadata": {},
     "output_type": "execute_result"
    }
   ],
   "execution_count": 19
  },
  {
   "metadata": {},
   "cell_type": "markdown",
   "source": [
    "### External Datasets\n",
    "PySpark은 Hadoop 에서 호환되는 모든 저장 source로 분산된 데이터셋 생성이 가능 (local file system, HDFS, Cassandra, HBase, AWS S3 등)  \n",
    "Spark 는 텍스트파일 sequence 파일 혹은 다른 Hadoop 입력형식을 지원한다.  \n",
    "\n",
    "<strong>textFile</strong> method 을 사용해서 텍스트파일 RDDs 생성이 가능  \n",
    "이 method 은 파일의 URI(로컬 경로, hdfs://, s3a:// 등의 URI) 를 가지고 줄 단위로 읽는다.  \n",
    "생성된 RDDs 텍스트파일은 dataset 기능을 사용가능하다."
   ],
   "id": "29448de8397f1417"
  },
  {
   "metadata": {
    "ExecuteTime": {
     "end_time": "2025-04-16T14:37:36.682930Z",
     "start_time": "2025-04-16T14:37:36.457149Z"
    }
   },
   "cell_type": "code",
   "source": [
    "distFile = sc.textFile(\"../data/data.txt\")\n",
    "# distFile(data.txt) 의 총 길이\n",
    "distFile.map(lambda s: len(s)).reduce(lambda a, b: a + b)"
   ],
   "id": "3ed7bbf478fb2c4a",
   "outputs": [
    {
     "data": {
      "text/plain": [
       "999"
      ]
     },
     "execution_count": 20,
     "metadata": {},
     "output_type": "execute_result"
    }
   ],
   "execution_count": 20
  },
  {
   "metadata": {},
   "cell_type": "code",
   "outputs": [],
   "execution_count": null,
   "source": "",
   "id": "7bbeba2c9c57f70e"
  }
 ],
 "metadata": {
  "kernelspec": {
   "display_name": "Python 3",
   "language": "python",
   "name": "python3"
  },
  "language_info": {
   "codemirror_mode": {
    "name": "ipython",
    "version": 2
   },
   "file_extension": ".py",
   "mimetype": "text/x-python",
   "name": "python",
   "nbconvert_exporter": "python",
   "pygments_lexer": "ipython2",
   "version": "2.7.6"
  }
 },
 "nbformat": 4,
 "nbformat_minor": 5
}
