{
 "cells": [
  {
   "metadata": {},
   "cell_type": "markdown",
   "source": [
    "## Linking with Spark\n",
    "pyspark는 driver 와 worker들의 python version 이 동일해야한다."
   ],
   "id": "5aab6d67e8801f95"
  },
  {
   "metadata": {
    "ExecuteTime": {
     "end_time": "2025-05-07T14:07:38.388123Z",
     "start_time": "2025-05-07T14:07:38.178579Z"
    }
   },
   "cell_type": "code",
   "source": "from pyspark import SparkContext, SparkConf",
   "id": "initial_id",
   "outputs": [],
   "execution_count": 1
  },
  {
   "metadata": {},
   "cell_type": "markdown",
   "source": [
    "## Initializing Spark \n",
    "### SparkContext\n",
    "어떻게 cluster 에 접근할지 Spark 에게 알려줌\n",
    "### SparkConf\n",
    "내 application 정보 저장  \n",
    "### SparkSession 와 SparkConf 차이?\n",
    "#### 공통점\n",
    "Spark 앱 진입점  \n",
    "<br>\n",
    "\n",
    "#### 차이점\n",
    "SparkSession 은 2.0 부터 도입된 새로운 진입점  \n",
    "SparkContext 는 RDD API 중심 지원, SparkSession 은 RDD + DataFrame + SQL 등 모든 API 지원  \n",
    "SparkSession 내부에 SparkContext 포함(spark.sparkContext)"
   ],
   "id": "b98adda65ff6fc97"
  },
  {
   "metadata": {
    "ExecuteTime": {
     "end_time": "2025-05-07T14:07:43.121805Z",
     "start_time": "2025-05-07T14:07:38.389756Z"
    }
   },
   "cell_type": "code",
   "source": [
    "if SparkContext._active_spark_context is not None:\n",
    "    sc = SparkContext.getOrCreate()\n",
    "else:\n",
    "    conf = SparkConf().setAppName(\"RDD Programming Guide\").setMaster(\"local\")\n",
    "    sc = SparkContext(conf=conf)"
   ],
   "id": "67bb26435cefeb6b",
   "outputs": [
    {
     "name": "stderr",
     "output_type": "stream",
     "text": [
      "25/05/07 23:07:40 WARN Utils: Your hostname, gimjunhaui-MacBookPro.local resolves to a loopback address: 127.0.0.1; using 192.168.45.106 instead (on interface en0)\n",
      "25/05/07 23:07:40 WARN Utils: Set SPARK_LOCAL_IP if you need to bind to another address\n",
      "Setting default log level to \"WARN\".\n",
      "To adjust logging level use sc.setLogLevel(newLevel). For SparkR, use setLogLevel(newLevel).\n",
      "25/05/07 23:07:41 WARN NativeCodeLoader: Unable to load native-hadoop library for your platform... using builtin-java classes where applicable\n"
     ]
    }
   ],
   "execution_count": 2
  },
  {
   "metadata": {},
   "cell_type": "markdown",
   "source": [
    "### Using shell\n",
    "\n",
    "shell 에서 사용법은 다음에   \n",
    "python driver 설정 내용이 있는데 필요할 때 알아보자"
   ],
   "id": "875d049b7818bf4b"
  },
  {
   "metadata": {},
   "cell_type": "markdown",
   "source": [
    "## Resilient Distributed Datasets (RDDs)\n",
    "RDDs 는 고장에 강하고 병렬로 처리할 수 있는 데이터 요소들의 집합  \n",
    "RDDs 생성은 드라이버 프로그램에 있는 데이터 요소들 혹은 외부 저장장치에 있는 데이터셋 (HDFS, HBase, Hadoop 기반)"
   ],
   "id": "4c6f8baf184b4f11"
  },
  {
   "metadata": {},
   "cell_type": "markdown",
   "source": [
    "### Parallelized Collection\n",
    "Parallelized Collection은 드라이버 프로그램에서 기존의 리스트나 반복 가능한 객체에 대해 SparkContext의 parallelize 메소드를 호출함으로 생성  \n",
    "데이터 요소들은 복사되어 병렬로 처리할 수 있는 RDDs 가 됨"
   ],
   "id": "5bf196f02d8bd5bc"
  },
  {
   "metadata": {
    "ExecuteTime": {
     "end_time": "2025-04-23T15:38:03.843151Z",
     "start_time": "2025-04-23T15:38:03.730449Z"
    }
   },
   "cell_type": "code",
   "source": [
    "data = [1, 2, 3, 4, 5]\n",
    "distData = sc.parallelize(data)\n",
    "distData"
   ],
   "id": "4ff25570f5552022",
   "outputs": [
    {
     "ename": "ConnectionRefusedError",
     "evalue": "[Errno 61] Connection refused",
     "output_type": "error",
     "traceback": [
      "\u001B[31m---------------------------------------------------------------------------\u001B[39m",
      "\u001B[31mConnectionRefusedError\u001B[39m                    Traceback (most recent call last)",
      "\u001B[36mCell\u001B[39m\u001B[36m \u001B[39m\u001B[32mIn[36]\u001B[39m\u001B[32m, line 2\u001B[39m\n\u001B[32m      1\u001B[39m data = [\u001B[32m1\u001B[39m, \u001B[32m2\u001B[39m, \u001B[32m3\u001B[39m, \u001B[32m4\u001B[39m, \u001B[32m5\u001B[39m]\n\u001B[32m----> \u001B[39m\u001B[32m2\u001B[39m distData = \u001B[43msc\u001B[49m\u001B[43m.\u001B[49m\u001B[43mparallelize\u001B[49m\u001B[43m(\u001B[49m\u001B[43mdata\u001B[49m\u001B[43m)\u001B[49m\n\u001B[32m      3\u001B[39m distData\n",
      "\u001B[36mFile \u001B[39m\u001B[32m~/PycharmProjects/sparkstudy/.venv/lib/python3.11/site-packages/pyspark/context.py:783\u001B[39m, in \u001B[36mSparkContext.parallelize\u001B[39m\u001B[34m(self, c, numSlices)\u001B[39m\n\u001B[32m    751\u001B[39m \u001B[38;5;28;01mdef\u001B[39;00m\u001B[38;5;250m \u001B[39m\u001B[34mparallelize\u001B[39m(\u001B[38;5;28mself\u001B[39m, c: Iterable[T], numSlices: Optional[\u001B[38;5;28mint\u001B[39m] = \u001B[38;5;28;01mNone\u001B[39;00m) -> RDD[T]:\n\u001B[32m    752\u001B[39m \u001B[38;5;250m    \u001B[39m\u001B[33;03m\"\"\"\u001B[39;00m\n\u001B[32m    753\u001B[39m \u001B[33;03m    Distribute a local Python collection to form an RDD. Using range\u001B[39;00m\n\u001B[32m    754\u001B[39m \u001B[33;03m    is recommended if the input represents a range for performance.\u001B[39;00m\n\u001B[32m   (...)\u001B[39m\u001B[32m    781\u001B[39m \u001B[33;03m    [['a'], ['b', 'c']]\u001B[39;00m\n\u001B[32m    782\u001B[39m \u001B[33;03m    \"\"\"\u001B[39;00m\n\u001B[32m--> \u001B[39m\u001B[32m783\u001B[39m     numSlices = \u001B[38;5;28mint\u001B[39m(numSlices) \u001B[38;5;28;01mif\u001B[39;00m numSlices \u001B[38;5;129;01mis\u001B[39;00m \u001B[38;5;129;01mnot\u001B[39;00m \u001B[38;5;28;01mNone\u001B[39;00m \u001B[38;5;28;01melse\u001B[39;00m \u001B[38;5;28;43mself\u001B[39;49m\u001B[43m.\u001B[49m\u001B[43mdefaultParallelism\u001B[49m\n\u001B[32m    784\u001B[39m     \u001B[38;5;28;01mif\u001B[39;00m \u001B[38;5;28misinstance\u001B[39m(c, \u001B[38;5;28mrange\u001B[39m):\n\u001B[32m    785\u001B[39m         size = \u001B[38;5;28mlen\u001B[39m(c)\n",
      "\u001B[36mFile \u001B[39m\u001B[32m~/PycharmProjects/sparkstudy/.venv/lib/python3.11/site-packages/pyspark/context.py:630\u001B[39m, in \u001B[36mSparkContext.defaultParallelism\u001B[39m\u001B[34m(self)\u001B[39m\n\u001B[32m    618\u001B[39m \u001B[38;5;129m@property\u001B[39m\n\u001B[32m    619\u001B[39m \u001B[38;5;28;01mdef\u001B[39;00m\u001B[38;5;250m \u001B[39m\u001B[34mdefaultParallelism\u001B[39m(\u001B[38;5;28mself\u001B[39m) -> \u001B[38;5;28mint\u001B[39m:\n\u001B[32m    620\u001B[39m \u001B[38;5;250m    \u001B[39m\u001B[33;03m\"\"\"\u001B[39;00m\n\u001B[32m    621\u001B[39m \u001B[33;03m    Default level of parallelism to use when not given by user (e.g. for reduce tasks)\u001B[39;00m\n\u001B[32m    622\u001B[39m \n\u001B[32m   (...)\u001B[39m\u001B[32m    628\u001B[39m \u001B[33;03m    True\u001B[39;00m\n\u001B[32m    629\u001B[39m \u001B[33;03m    \"\"\"\u001B[39;00m\n\u001B[32m--> \u001B[39m\u001B[32m630\u001B[39m     \u001B[38;5;28;01mreturn\u001B[39;00m \u001B[38;5;28;43mself\u001B[39;49m\u001B[43m.\u001B[49m\u001B[43m_jsc\u001B[49m\u001B[43m.\u001B[49m\u001B[43msc\u001B[49m\u001B[43m(\u001B[49m\u001B[43m)\u001B[49m.defaultParallelism()\n",
      "\u001B[36mFile \u001B[39m\u001B[32m~/PycharmProjects/sparkstudy/.venv/lib/python3.11/site-packages/py4j/java_gateway.py:1321\u001B[39m, in \u001B[36mJavaMember.__call__\u001B[39m\u001B[34m(self, *args)\u001B[39m\n\u001B[32m   1314\u001B[39m args_command, temp_args = \u001B[38;5;28mself\u001B[39m._build_args(*args)\n\u001B[32m   1316\u001B[39m command = proto.CALL_COMMAND_NAME +\\\n\u001B[32m   1317\u001B[39m     \u001B[38;5;28mself\u001B[39m.command_header +\\\n\u001B[32m   1318\u001B[39m     args_command +\\\n\u001B[32m   1319\u001B[39m     proto.END_COMMAND_PART\n\u001B[32m-> \u001B[39m\u001B[32m1321\u001B[39m answer = \u001B[38;5;28;43mself\u001B[39;49m\u001B[43m.\u001B[49m\u001B[43mgateway_client\u001B[49m\u001B[43m.\u001B[49m\u001B[43msend_command\u001B[49m\u001B[43m(\u001B[49m\u001B[43mcommand\u001B[49m\u001B[43m)\u001B[49m\n\u001B[32m   1322\u001B[39m return_value = get_return_value(\n\u001B[32m   1323\u001B[39m     answer, \u001B[38;5;28mself\u001B[39m.gateway_client, \u001B[38;5;28mself\u001B[39m.target_id, \u001B[38;5;28mself\u001B[39m.name)\n\u001B[32m   1325\u001B[39m \u001B[38;5;28;01mfor\u001B[39;00m temp_arg \u001B[38;5;129;01min\u001B[39;00m temp_args:\n",
      "\u001B[36mFile \u001B[39m\u001B[32m~/PycharmProjects/sparkstudy/.venv/lib/python3.11/site-packages/py4j/java_gateway.py:1036\u001B[39m, in \u001B[36mGatewayClient.send_command\u001B[39m\u001B[34m(self, command, retry, binary)\u001B[39m\n\u001B[32m   1015\u001B[39m \u001B[38;5;28;01mdef\u001B[39;00m\u001B[38;5;250m \u001B[39m\u001B[34msend_command\u001B[39m(\u001B[38;5;28mself\u001B[39m, command, retry=\u001B[38;5;28;01mTrue\u001B[39;00m, binary=\u001B[38;5;28;01mFalse\u001B[39;00m):\n\u001B[32m   1016\u001B[39m \u001B[38;5;250m    \u001B[39m\u001B[33;03m\"\"\"Sends a command to the JVM. This method is not intended to be\u001B[39;00m\n\u001B[32m   1017\u001B[39m \u001B[33;03m       called directly by Py4J users. It is usually called by\u001B[39;00m\n\u001B[32m   1018\u001B[39m \u001B[33;03m       :class:`JavaMember` instances.\u001B[39;00m\n\u001B[32m   (...)\u001B[39m\u001B[32m   1034\u001B[39m \u001B[33;03m     if `binary` is `True`.\u001B[39;00m\n\u001B[32m   1035\u001B[39m \u001B[33;03m    \"\"\"\u001B[39;00m\n\u001B[32m-> \u001B[39m\u001B[32m1036\u001B[39m     connection = \u001B[38;5;28;43mself\u001B[39;49m\u001B[43m.\u001B[49m\u001B[43m_get_connection\u001B[49m\u001B[43m(\u001B[49m\u001B[43m)\u001B[49m\n\u001B[32m   1037\u001B[39m     \u001B[38;5;28;01mtry\u001B[39;00m:\n\u001B[32m   1038\u001B[39m         response = connection.send_command(command)\n",
      "\u001B[36mFile \u001B[39m\u001B[32m~/PycharmProjects/sparkstudy/.venv/lib/python3.11/site-packages/py4j/clientserver.py:284\u001B[39m, in \u001B[36mJavaClient._get_connection\u001B[39m\u001B[34m(self)\u001B[39m\n\u001B[32m    281\u001B[39m     \u001B[38;5;28;01mpass\u001B[39;00m\n\u001B[32m    283\u001B[39m \u001B[38;5;28;01mif\u001B[39;00m connection \u001B[38;5;129;01mis\u001B[39;00m \u001B[38;5;28;01mNone\u001B[39;00m \u001B[38;5;129;01mor\u001B[39;00m connection.socket \u001B[38;5;129;01mis\u001B[39;00m \u001B[38;5;28;01mNone\u001B[39;00m:\n\u001B[32m--> \u001B[39m\u001B[32m284\u001B[39m     connection = \u001B[38;5;28;43mself\u001B[39;49m\u001B[43m.\u001B[49m\u001B[43m_create_new_connection\u001B[49m\u001B[43m(\u001B[49m\u001B[43m)\u001B[49m\n\u001B[32m    285\u001B[39m \u001B[38;5;28;01mreturn\u001B[39;00m connection\n",
      "\u001B[36mFile \u001B[39m\u001B[32m~/PycharmProjects/sparkstudy/.venv/lib/python3.11/site-packages/py4j/clientserver.py:291\u001B[39m, in \u001B[36mJavaClient._create_new_connection\u001B[39m\u001B[34m(self)\u001B[39m\n\u001B[32m    287\u001B[39m \u001B[38;5;28;01mdef\u001B[39;00m\u001B[38;5;250m \u001B[39m\u001B[34m_create_new_connection\u001B[39m(\u001B[38;5;28mself\u001B[39m):\n\u001B[32m    288\u001B[39m     connection = ClientServerConnection(\n\u001B[32m    289\u001B[39m         \u001B[38;5;28mself\u001B[39m.java_parameters, \u001B[38;5;28mself\u001B[39m.python_parameters,\n\u001B[32m    290\u001B[39m         \u001B[38;5;28mself\u001B[39m.gateway_property, \u001B[38;5;28mself\u001B[39m)\n\u001B[32m--> \u001B[39m\u001B[32m291\u001B[39m     \u001B[43mconnection\u001B[49m\u001B[43m.\u001B[49m\u001B[43mconnect_to_java_server\u001B[49m\u001B[43m(\u001B[49m\u001B[43m)\u001B[49m\n\u001B[32m    292\u001B[39m     \u001B[38;5;28mself\u001B[39m.set_thread_connection(connection)\n\u001B[32m    293\u001B[39m     \u001B[38;5;28;01mreturn\u001B[39;00m connection\n",
      "\u001B[36mFile \u001B[39m\u001B[32m~/PycharmProjects/sparkstudy/.venv/lib/python3.11/site-packages/py4j/clientserver.py:438\u001B[39m, in \u001B[36mClientServerConnection.connect_to_java_server\u001B[39m\u001B[34m(self)\u001B[39m\n\u001B[32m    435\u001B[39m \u001B[38;5;28;01mif\u001B[39;00m \u001B[38;5;28mself\u001B[39m.ssl_context:\n\u001B[32m    436\u001B[39m     \u001B[38;5;28mself\u001B[39m.socket = \u001B[38;5;28mself\u001B[39m.ssl_context.wrap_socket(\n\u001B[32m    437\u001B[39m         \u001B[38;5;28mself\u001B[39m.socket, server_hostname=\u001B[38;5;28mself\u001B[39m.java_address)\n\u001B[32m--> \u001B[39m\u001B[32m438\u001B[39m \u001B[38;5;28;43mself\u001B[39;49m\u001B[43m.\u001B[49m\u001B[43msocket\u001B[49m\u001B[43m.\u001B[49m\u001B[43mconnect\u001B[49m\u001B[43m(\u001B[49m\u001B[43m(\u001B[49m\u001B[38;5;28;43mself\u001B[39;49m\u001B[43m.\u001B[49m\u001B[43mjava_address\u001B[49m\u001B[43m,\u001B[49m\u001B[43m \u001B[49m\u001B[38;5;28;43mself\u001B[39;49m\u001B[43m.\u001B[49m\u001B[43mjava_port\u001B[49m\u001B[43m)\u001B[49m\u001B[43m)\u001B[49m\n\u001B[32m    439\u001B[39m \u001B[38;5;28mself\u001B[39m.stream = \u001B[38;5;28mself\u001B[39m.socket.makefile(\u001B[33m\"\u001B[39m\u001B[33mrb\u001B[39m\u001B[33m\"\u001B[39m)\n\u001B[32m    440\u001B[39m \u001B[38;5;28mself\u001B[39m.is_connected = \u001B[38;5;28;01mTrue\u001B[39;00m\n",
      "\u001B[31mConnectionRefusedError\u001B[39m: [Errno 61] Connection refused"
     ]
    }
   ],
   "execution_count": 36
  },
  {
   "metadata": {},
   "cell_type": "markdown",
   "source": [
    "일단 생성을 하면 분산된 데이터셋(distData) 는 병렬로 처리 가능  \n",
    "예를 들어 아래와 같이 코드를 작성하면 모든 요소의 합을 구할 수 있다."
   ],
   "id": "278d2b28a5904585"
  },
  {
   "metadata": {
    "ExecuteTime": {
     "end_time": "2025-04-16T14:37:33.886008Z",
     "start_time": "2025-04-16T14:37:33.749842Z"
    }
   },
   "cell_type": "code",
   "source": "distData.reduce(lambda a, b: a + b)",
   "id": "bb0bf386dc7ef95b",
   "outputs": [
    {
     "data": {
      "text/plain": [
       "15"
      ]
     },
     "execution_count": 18,
     "metadata": {},
     "output_type": "execute_result"
    }
   ],
   "execution_count": 18
  },
  {
   "metadata": {},
   "cell_type": "markdown",
   "source": [
    "Parallelized Collection 에서 가장 중요한 요소(변수) 하나는 데이터셋을 몇개의 파티션으로 나눌지이다.  \n",
    "Spark 는 각 클러스터의 파티션에 대해 한가지 task 만 실행  \n",
    "보통 클러스터의 CPU 당 2~4 파티션으로 나눈다. \n",
    "Spark 는 자동으로 클러스터 기반으로 파티션 갯수를 나눈다.  \n",
    "그러나, 수동으로 몇개의 파티션을 나눌지 설정이 가능"
   ],
   "id": "b4fd0a7cc3bd8c15"
  },
  {
   "metadata": {
    "ExecuteTime": {
     "end_time": "2025-04-16T14:37:35.194941Z",
     "start_time": "2025-04-16T14:37:35.187805Z"
    }
   },
   "cell_type": "code",
   "source": "sc.parallelize(data, 10) # 10개의 파티션으로 나눈다",
   "id": "2551e051cf559ee9",
   "outputs": [
    {
     "data": {
      "text/plain": [
       "ParallelCollectionRDD[30] at readRDDFromFile at PythonRDD.scala:289"
      ]
     },
     "execution_count": 19,
     "metadata": {},
     "output_type": "execute_result"
    }
   ],
   "execution_count": 19
  },
  {
   "metadata": {
    "ExecuteTime": {
     "end_time": "2025-04-17T15:22:23.458500Z",
     "start_time": "2025-04-17T15:22:17.520780Z"
    }
   },
   "cell_type": "code",
   "source": [
    "# 실험 시간 갯수\n",
    "# 1~1000억 하니 컴퓨터 메모리가 못버틴다...\n",
    "# 메모리 에러 발생 -> SparkConf 기본 메모리가 1G 로 되어 있어서 아래와같이 설정\n",
    "data1 = list(range(100000000))\n",
    "conf1 = SparkConf().setAppName(\"MyApp\").set(\"spark.executor.memory\", \"2g\").set(\"spark.driver.memory\", \"2g\")\n",
    "sc1 = SparkContext(conf=conf1)"
   ],
   "id": "2e29cd834ae4d027",
   "outputs": [
    {
     "name": "stderr",
     "output_type": "stream",
     "text": [
      "25/04/18 00:22:21 WARN Utils: Your hostname, gimjunhaui-MacBookPro.local resolves to a loopback address: 127.0.0.1; using 192.168.45.202 instead (on interface en0)\n",
      "25/04/18 00:22:21 WARN Utils: Set SPARK_LOCAL_IP if you need to bind to another address\n",
      "Setting default log level to \"WARN\".\n",
      "To adjust logging level use sc.setLogLevel(newLevel). For SparkR, use setLogLevel(newLevel).\n",
      "25/04/18 00:22:22 WARN NativeCodeLoader: Unable to load native-hadoop library for your platform... using builtin-java classes where applicable\n"
     ]
    }
   ],
   "execution_count": 2
  },
  {
   "metadata": {
    "ExecuteTime": {
     "end_time": "2025-04-17T15:19:13.103475Z",
     "start_time": "2025-04-17T15:18:48.271472Z"
    }
   },
   "cell_type": "code",
   "source": [
    "distData1 = sc1.parallelize(data1, 2)\n",
    "distData1.reduce(lambda a, b: a + b)"
   ],
   "id": "df4204bc63ad9e34",
   "outputs": [
    {
     "name": "stderr",
     "output_type": "stream",
     "text": [
      "25/04/18 00:19:01 WARN TaskSetManager: Stage 0 contains a task of very large size (245355 KiB). The maximum recommended task size is 1000 KiB.\n",
      "                                                                                \r"
     ]
    },
    {
     "data": {
      "text/plain": [
       "4999999950000000"
      ]
     },
     "execution_count": 3,
     "metadata": {},
     "output_type": "execute_result"
    }
   ],
   "execution_count": 3
  },
  {
   "metadata": {
    "ExecuteTime": {
     "end_time": "2025-04-17T15:22:42.784566Z",
     "start_time": "2025-04-17T15:22:25.693365Z"
    }
   },
   "cell_type": "code",
   "source": [
    "distData2 = sc1.parallelize(data1, 10)\n",
    "distData2.reduce(lambda a, b: a + b)"
   ],
   "id": "9d9f8c086c6d7aaf",
   "outputs": [
    {
     "name": "stderr",
     "output_type": "stream",
     "text": [
      "25/04/18 00:22:37 WARN TaskSetManager: Stage 0 contains a task of very large size (48972 KiB). The maximum recommended task size is 1000 KiB.\n",
      "                                                                                \r"
     ]
    },
    {
     "data": {
      "text/plain": [
       "4999999950000000"
      ]
     },
     "execution_count": 3,
     "metadata": {},
     "output_type": "execute_result"
    }
   ],
   "execution_count": 3
  },
  {
   "metadata": {},
   "cell_type": "markdown",
   "source": [
    "#### 2개 파티션 vs 10개 파티션 시간 비교\n",
    "1~1억 이 들어있는 List 의 sum 을 하나씩 더해서 구하는 경우  \n",
    "2개 파티션 24.832초  \n",
    "10개 파티션 17.91초  \n",
    "나눠서 하면 빠르다!"
   ],
   "id": "a1e2d9b4c2872256"
  },
  {
   "metadata": {},
   "cell_type": "markdown",
   "source": [
    "### External Datasets\n",
    "PySpark은 Hadoop 에서 호환되는 모든 저장 source로 분산된 데이터셋 생성이 가능 (local file system, HDFS, Cassandra, HBase, AWS S3 등)  \n",
    "Spark 는 텍스트파일 sequence 파일 혹은 다른 Hadoop 입력형식을 지원한다.  \n",
    "\n",
    "<strong>textFile</strong> method 을 사용해서 텍스트파일 RDDs 생성이 가능  \n",
    "이 method 은 파일의 URI(로컬 경로, hdfs://, s3a:// 등의 URI) 를 가지고 줄 단위로 읽는다.  \n",
    "생성된 RDDs 텍스트파일은 dataset 기능을 사용가능하다."
   ],
   "id": "29448de8397f1417"
  },
  {
   "metadata": {
    "ExecuteTime": {
     "end_time": "2025-04-16T14:37:36.682930Z",
     "start_time": "2025-04-16T14:37:36.457149Z"
    }
   },
   "cell_type": "code",
   "source": [
    "distFile = sc.textFile(\"../data/data.txt\")\n",
    "# distFile(data.txt) 의 총 길이\n",
    "distFile.map(lambda s: len(s)).reduce(lambda a, b: a + b)"
   ],
   "id": "3ed7bbf478fb2c4a",
   "outputs": [
    {
     "data": {
      "text/plain": [
       "999"
      ]
     },
     "execution_count": 20,
     "metadata": {},
     "output_type": "execute_result"
    }
   ],
   "execution_count": 20
  },
  {
   "metadata": {},
   "cell_type": "markdown",
   "source": [
    "Spark에서 파일 읽는 경우 참고 사항 (textFile)\n",
    "* 만약 로컬 파일을 쓰는 경우 노드 내에도 같은 경로에 접근 가능한 파일이 존재해야한다. 모든 노드에 복사 혹은 노드에 공유된 network-mounted 파일 시스템 사용\n",
    "* 파일을 읽을때 파일경로(sample.txt), 와일드카드(\\*.txt 같은), 압축파일(*.gz) 이 사용 가능하다\n",
    "* textFile에는 두번째 인자가 있는데 이는 파일이 몇개의 파티션으로 구성될지 설정. 기본값으로 파일블럭(블럭은 HDFS 에서 128MB 기본값)당 1개의 파티션 생성, block 갯수 < 파티션 갯수"
   ],
   "id": "c24e4d366b8c230a"
  },
  {
   "metadata": {},
   "cell_type": "markdown",
   "source": [
    "Spark 파이썬 API 지원하는 데이터 형식\n",
    "* <strong>SparkContext.wholeTextFiles</strong> 은 경로 안에 있는 작은 여러 텍스트 파일을 읽고, 각각 (파일명, 내용) 쌍으로 리턴함. textFile은 다르게 각파일에서 각줄당 1개의 결과만 리턴\n",
    "* <strong>RDD.saveAsPickleFile</strong> and <strong>SparkContext.pickleFile</strong>은 RDD를 간단한 형식인 pickle 의 Python object로 저장을 지원, 배치가 pickle serialization 에 사용, 배치 기본 크기는 10.\n",
    "* <strong>SequenceFile</strong> 와 <strong>Hadoop Input/Output</strong>형식"
   ],
   "id": "1c5e45998042672a"
  },
  {
   "metadata": {},
   "cell_type": "markdown",
   "source": "### Spark SQL 의 read/write 지원은 실험 단계. 고수를 위한거므로 일단은 패스...",
   "id": "f1c2fd87f9816f32"
  },
  {
   "metadata": {},
   "cell_type": "markdown",
   "source": [
    "### RDD Operations\n",
    "2가지의 operation 지원 \n",
    "transformations, actions\n",
    "\n",
    " "
   ],
   "id": "e1b4ddc9b22570d6"
  },
  {
   "metadata": {},
   "cell_type": "markdown",
   "source": [
    "#### transformations    \n",
    "기존의 dataset으로 새로운 dataset 생성  "
   ],
   "id": "f01b011177e3e865"
  },
  {
   "metadata": {},
   "cell_type": "markdown",
   "source": [
    "#### actions \n",
    "dataset의 실행 결과인 하나의 값을 driver program 으로 전달."
   ],
   "id": "a98568def841918e"
  },
  {
   "metadata": {},
   "cell_type": "code",
   "outputs": [],
   "execution_count": null,
   "source": [
    "# 이해를 돕기위한 예\n",
    "distFile = sc.textFile(\"../data/data.txt\")\n",
    "distFile.map(lambda s: len(s)).reduce(lambda a, b: a + b)"
   ],
   "id": "7bbeba2c9c57f70e"
  },
  {
   "metadata": {},
   "cell_type": "markdown",
   "source": [
    "<code>distFile.map(lambda s: len(s))</code> 은 transformations 에 해당  \n",
    "각 줄마다 길이를 갖는 새로운 dataset 으로 변환  "
   ],
   "id": "c98156af546b6d9a"
  },
  {
   "metadata": {},
   "cell_type": "markdown",
   "source": [
    "<code>distFile.map(lambda s: len(s)).reduce(lambda a, b: a + b)</code> 은 actions 에 해당  \n",
    "위의 transformation 한 dataset 에 대해서 각줄의 길이의 합(전체 길이) 를 하나의 값으로 반환  \n",
    "(참고: reduceByKey 는 distributed dataset 반환)"
   ],
   "id": "dd821549bdd369bf"
  },
  {
   "metadata": {},
   "cell_type": "markdown",
   "source": [
    "모든 transformations 은 lazy(게으름), 실제로 실행을 바로 하지 않음.  \n",
    "transformation 해야하는거만 기억해둠.  \n",
    "action 이 일어나지 않으면 실제 행하지 않음.   \n",
    "이를 통해 Spark가 더 효율적으로 실행 가능  \n",
    "transformations 연산을 즉시 실행하지 않고, \"실행계획 DAG(Directed Acyclic Graph)\" 만 구성   "
   ],
   "id": "ef54c6db331d26af"
  },
  {
   "metadata": {},
   "cell_type": "markdown",
   "source": [
    "여기서 transformations 을 lazy 하는게 왜 Spark를 더 효율적으로 실행이 될까?  \n",
    "1. 최적회 기회를 제공: action 전단계의 모든 transformations 를 한번에 분석해서 중간 데이터 생성 최소화하거나 필요 없는 작업 제거\n",
    "2. 중간 결과 저상 최소화: 즉시 실행되지 않기 때문에, 불필요한 중간 데이터 저장(IO 비용) 없이 메모리에서 연산 체인을 효율적으로 이어서 처리할 수 있음  \n",
    "3. 필요한 데이터만 처리: Action 에 필요한 데이터만 처리하도록 계획 세움, <code>take(10)</code> 하면 딱 10개만 나오도록 계산  \n",
    "4. 장기 실행 계획(DAG) 으로 장애 복구 용이: lazy transformation 은 저체 실행 결로를 DAG로 기록하므로, 장애가 나도 어느 지점에서 어떻게 다시 계산할지 알 수 있음 "
   ],
   "id": "4d801ebabb08230b"
  },
  {
   "metadata": {},
   "cell_type": "markdown",
   "source": [
    "기본적으로 transform RDD 는 매번 action 이 일어나면 실행하지만, 자주 사용하는 RDD 를 메모리에 <strong>persist</strong>(cache, 캐싱) 가능.  \n",
    "자주 쓰이므로 메모리에 올려두고 더 빠르게 접근 가능(매번 transform 하지 않아도 된다)  \n",
    "추가로 RDD를 디스크에 persisting 하거나 여러 노드에 복제할 수 있다.  "
   ],
   "id": "228b59c3a30b2045"
  },
  {
   "metadata": {},
   "cell_type": "markdown",
   "source": "#### Basics",
   "id": "4acf3be1f83dfd"
  },
  {
   "metadata": {},
   "cell_type": "code",
   "outputs": [],
   "execution_count": null,
   "source": [
    "lines = sc.textFile(\"../data/data.txt\") # 파일 위치를 그저 가르킬 뿐, 메모리에 올리거나 해당 RDD 에 대한 action 이 없으면 행하지 않음\n",
    "lineLengths = lines.map(lambda s: len(s)) # transformation, 당장 실행하지 않음, 게으름\n",
    "totalLength = lineLengths.reduce(lambda a, b: a + b) # action, 여러 장치에서 돌리기 위해 task 단위로 할일을 나눔, 각 장치에서 map 과 reduce 실행 지금 실행하는 위치에서만 결과값을 반환 받음\n",
    "print(totalLength)\n",
    "\n",
    "# 나중에 lineLengths 를 쓴다면\n",
    "lineLengths.persist()"
   ],
   "id": "55c600b926301e3a"
  },
  {
   "metadata": {},
   "cell_type": "markdown",
   "source": [
    "#### Passing Functions to Spark\n",
    "클러스터 내에서 실행하는 Spark API는 driver program 이 보내주는 function 에 의지한다.  \n",
    "3가지 권장된 방법:  \n",
    "1. Lambda 표현식(Lambda는 multi-statement function(여러줄로 된 함수)과 return 값이 없는 것을 지원하지 않음\n",
    "2. spark 연산을 호출하는 함수 내부에 로컬 함수를 정의하는 방식(코드가 좀 길고, 외부에서 안 쓰는 함수)\n",
    "3. 함수 정의를 스크립트나 모듈의 최상단에 위치시키는 것 (재사용 시, 여러 spark 작업에서 쓸 때)"
   ],
   "id": "77396be27070b894"
  },
  {
   "metadata": {
    "ExecuteTime": {
     "end_time": "2025-04-24T13:46:51.609623Z",
     "start_time": "2025-04-24T13:46:49.458412Z"
    }
   },
   "cell_type": "code",
   "source": [
    "# 1. lambda 표현식\n",
    "rdd = sc.textFile(\"../data/data.txt\")\n",
    "rdd.map(lambda s: len(s)).reduce(lambda a, b: a + b)"
   ],
   "id": "d49c651b976d3da2",
   "outputs": [
    {
     "name": "stderr",
     "output_type": "stream",
     "text": [
      "                                                                                \r"
     ]
    },
    {
     "data": {
      "text/plain": [
       "999"
      ]
     },
     "execution_count": 3,
     "metadata": {},
     "output_type": "execute_result"
    }
   ],
   "execution_count": 3
  },
  {
   "metadata": {
    "ExecuteTime": {
     "end_time": "2025-04-24T13:47:00.740779Z",
     "start_time": "2025-04-24T13:47:00.587132Z"
    }
   },
   "cell_type": "code",
   "source": [
    "# 2. 로컬 함수 사용\n",
    "def process_data():\n",
    "    def is_even(x):\n",
    "        return x % 2 == 0\n",
    "    \n",
    "    rdd = sc.parallelize(range(10))\n",
    "    even_rdd = rdd.filter(is_even)\n",
    "    print(even_rdd.collect())\n",
    "process_data()"
   ],
   "id": "1b4c40967ca95b43",
   "outputs": [
    {
     "name": "stdout",
     "output_type": "stream",
     "text": [
      "[0, 2, 4, 6, 8]\n"
     ]
    }
   ],
   "execution_count": 4
  },
  {
   "metadata": {
    "ExecuteTime": {
     "end_time": "2025-04-24T13:47:09.454284Z",
     "start_time": "2025-04-24T13:47:09.314046Z"
    }
   },
   "cell_type": "code",
   "source": [
    "# 3. 최상단 함수\n",
    "def is_even(x):\n",
    "    return x % 2 == 0\n",
    "\n",
    "rdd = sc.parallelize(range(10))\n",
    "even_rdd = rdd.filter(is_even)\n",
    "print(even_rdd.collect())"
   ],
   "id": "3a1a703be68c8004",
   "outputs": [
    {
     "name": "stdout",
     "output_type": "stream",
     "text": [
      "[0, 2, 4, 6, 8]\n"
     ]
    }
   ],
   "execution_count": 5
  },
  {
   "metadata": {
    "ExecuteTime": {
     "end_time": "2025-04-22T14:45:19.138630Z",
     "start_time": "2025-04-22T14:45:18.964141Z"
    }
   },
   "cell_type": "code",
   "source": [
    "# 최상단\n",
    "def myFunc(s):\n",
    "    words = s.split(\" \")\n",
    "    return len(words)\n",
    "\n",
    "sc.textFile(\"../data/data.txt\").map(myFunc).collect()"
   ],
   "id": "e43b4d4217e07dc",
   "outputs": [
    {
     "data": {
      "text/plain": [
       "[4,\n",
       " 5,\n",
       " 1,\n",
       " 4,\n",
       " 1,\n",
       " 2,\n",
       " 1,\n",
       " 1,\n",
       " 6,\n",
       " 3,\n",
       " 4,\n",
       " 13,\n",
       " 8,\n",
       " 6,\n",
       " 3,\n",
       " 10,\n",
       " 7,\n",
       " 3,\n",
       " 7,\n",
       " 2,\n",
       " 25,\n",
       " 1,\n",
       " 1,\n",
       " 1,\n",
       " 1,\n",
       " 3,\n",
       " 1,\n",
       " 5,\n",
       " 4,\n",
       " 36,\n",
       " 2,\n",
       " 8,\n",
       " 5,\n",
       " 1,\n",
       " 1,\n",
       " 1,\n",
       " 1]"
      ]
     },
     "execution_count": 23,
     "metadata": {},
     "output_type": "execute_result"
    }
   ],
   "execution_count": 23
  },
  {
   "metadata": {
    "ExecuteTime": {
     "end_time": "2025-04-22T14:45:09.800124Z",
     "start_time": "2025-04-22T14:45:09.612499Z"
    }
   },
   "cell_type": "code",
   "source": [
    "# 클래스를 이용해서 다른 함수 사용 가능\n",
    "class MyClass(object):\n",
    "    def func(self, s):\n",
    "        return len(s.split(' '))\n",
    "    def doStuff(self, rdd):\n",
    "        return rdd.map(self.func)\n",
    "mc = MyClass()\n",
    "mc.doStuff(sc.textFile(\"../data/data.txt\")).collect()"
   ],
   "id": "f6cd17ccb863771e",
   "outputs": [
    {
     "data": {
      "text/plain": [
       "[4,\n",
       " 5,\n",
       " 1,\n",
       " 4,\n",
       " 1,\n",
       " 2,\n",
       " 1,\n",
       " 1,\n",
       " 6,\n",
       " 3,\n",
       " 4,\n",
       " 13,\n",
       " 8,\n",
       " 6,\n",
       " 3,\n",
       " 10,\n",
       " 7,\n",
       " 3,\n",
       " 7,\n",
       " 2,\n",
       " 25,\n",
       " 1,\n",
       " 1,\n",
       " 1,\n",
       " 1,\n",
       " 3,\n",
       " 1,\n",
       " 5,\n",
       " 4,\n",
       " 36,\n",
       " 2,\n",
       " 8,\n",
       " 5,\n",
       " 1,\n",
       " 1,\n",
       " 1,\n",
       " 1]"
      ]
     },
     "execution_count": 22,
     "metadata": {},
     "output_type": "execute_result"
    }
   ],
   "execution_count": 22
  },
  {
   "metadata": {},
   "cell_type": "markdown",
   "source": [
    "#### Understanding closures\n",
    "Spark 의 어려운점 한가지는 클러스터에서 코드 실행 시 변수(variable) 과 메소드(method) 범위와 생애주기(life cycle) 이다.  \n",
    "범위 밖에서 변수 수정이 일어나는 RDD 작업은 자주 혼란스럽다.   "
   ],
   "id": "352b46741a1cb41b"
  },
  {
   "metadata": {
    "ExecuteTime": {
     "end_time": "2025-04-23T15:39:05.869065Z",
     "start_time": "2025-04-23T15:39:03.613088Z"
    }
   },
   "cell_type": "code",
   "source": [
    "# 실행 ㄴㄴ \n",
    "counter = 0 \n",
    "rdd = sc.parallelize(range(10))\n",
    "\n",
    "def increament_counter(x):\n",
    "    global counter \n",
    "    counter += x\n",
    "\n",
    "rdd.foreach(increament_counter)\n",
    "\n",
    "print(\"Counter value:\", counter)"
   ],
   "id": "203a9d4cb7379f16",
   "outputs": [
    {
     "name": "stderr",
     "output_type": "stream",
     "text": [
      "[Stage 0:>                                                          (0 + 1) / 1]\r"
     ]
    },
    {
     "name": "stdout",
     "output_type": "stream",
     "text": [
      "Counter value: 0\n"
     ]
    },
    {
     "name": "stderr",
     "output_type": "stream",
     "text": [
      "                                                                                \r"
     ]
    }
   ],
   "execution_count": 3
  },
  {
   "metadata": {},
   "cell_type": "markdown",
   "source": [
    "##### Local vs. cluster modes \n",
    "작업을 수행하려면, Spark 는 RDD 작업을 tasks 로 쪼갬, 각 task 는 executor 에 의해 실행  \n",
    "execution 전에 Spark 는 task 의 **closure**을 계산함  \n",
    "**Closure**은 해당 RDD를 계산하기 위해 executor에게 variable 과 method 가 보여야함(visible)(위 경우 foreach())  \n",
    "해당 **closure**를 직렬화하여 각 executor 로 전송  \n",
    "\n",
    "Closure 내의 변수는 각 executor 에 복사된 변수를 보냄  \n",
    "즉, 위에서 foreach 안의 함수에서 참조한 counter 는 더이상 driver node 의 counter 와 다름  \n",
    "driver 메모리에 counter 는 있지만 executor 에게 보여지지 않음  \n",
    "executor 는 오르지 직열화되고 복사된 counter 만 보임  \n",
    "즉, driver 가 가진 counter 는 여전히 0  \n",
    "\n",
    "로컬 모드, 어느 상황에서, foreach 함수는 driver 메모리에 있는 counter 를 참조할 가능성이 있다.  \n",
    "\n",
    "생각한대로 보장하기 위해서는 **Accumulator** 사용해야함  \n",
    "Spark의 accumulator는 클러스터 내에 여러 노드로 분산처리할 때 안전하게 변수를 업데이트 함  \n",
    "Accumulator 파트에서 자세한 내용 다룸  \n",
    "\n",
    "일반적으로 closure - 반복문이나 로컬에서만 정의된 method 같은 구조들 - 은 전역 상태(global state)를 변경하는데 사용 X  \n",
    "Spark는 closure 밖에서 참조된 object의 변형을 정의 혹은 보장하지 않음  \n",
    "로컬에서는 혹시 운수가 좋아서 될지 몰라도 클러스터 환경에서는 안됨  \n",
    "global 변수로 합을 구하지 말고 accumulator 사용 권장   "
   ],
   "id": "da13c82e903687d5"
  },
  {
   "metadata": {},
   "cell_type": "markdown",
   "source": [
    "##### Printing elements of an RDD \n",
    "또 다른 흔한 방식은 RDD 의 구성요소를 rdd.foreach(println) 혹은 rdd.map(println) 을 사용해서 출력한다.  \n",
    "이는 단독 기기에서 생각대로 잘 작동한다.   \n",
    "그러나 클러스터 모드에서는 이를 출력하지 않는다.  \n",
    "클러스터 환경에서 출력하려면 collect() 를 써서 RDD 를 driver 노드로 갖고 온디.  \n",
    "rdd.collect().foreach(println)  \n",
    "collect() 가 클러스터에 분산된 모든 정보를 driver 노드로 갖고와서 메모리가 부족할 수 있다 -> RDD 의 몇개만 갖고와서 출력 추천 take() 사용  \n",
    "rdd.take(100).foreach(println)  "
   ],
   "id": "230523ff59e92713"
  },
  {
   "metadata": {},
   "cell_type": "markdown",
   "source": [
    "#### Working with Key-Value Pairs \n",
    "대부분 Spark 작업은 모든 형태의 object 를 갖는 RDD 로 하는데, 몇가지 특별한 작업은 RDD의 Key-Value 쌍에서만 가능하다  \n",
    "가장 흔한 작업은 분산된 \"shuffle\" 작업, 구성요소의 Key로 그룹화 혹은 병합  \n",
    "\n",
    "파이썬에서는 이런 작업은 Python tuple로 구성된 RDD에서 작동한다. (1, 2) 와 같은  \n",
    "\n",
    "예를 들어 아래와 같이 텍스트 파일에서 같은 줄별로 몇개가 나오는지 계산할 수 있다 (reduceByKey(lambda a, b: a+b))  \n",
    "아니면 sortByKey() 로 오름차순으로 정렬 가능 "
   ],
   "id": "532afb67695e3965"
  },
  {
   "metadata": {
    "ExecuteTime": {
     "end_time": "2025-04-24T14:00:02.813233Z",
     "start_time": "2025-04-24T14:00:02.480840Z"
    }
   },
   "cell_type": "code",
   "source": [
    "lines = sc.textFile(\"../data/data.txt\")\n",
    "pairs = lines.map(lambda s: (s, 1))\n",
    "counts = pairs.reduceByKey(lambda a, b: a + b).sortBy(lambda x: x[1], ascending=False)\n",
    "# counts = pairs.sortByKey()\n",
    "counts.collect()"
   ],
   "id": "151a5fa8f1a9e353",
   "outputs": [
    {
     "data": {
      "text/plain": [
       "[('', 5),\n",
       " ('----', 3),\n",
       " ('# Spark 3.5.5 tutorial', 1),\n",
       " ('Apache Spark 공식 문서 스터디', 1),\n",
       " ('## RDD Programming Guide', 1),\n",
       " ('2025.04.16', 1),\n",
       " ('실습 진행', 1),\n",
       " ('2025.04.15', 1),\n",
       " ('코드 실습은 jupyternotebook 이 편리해보여서 변경', 1),\n",
       " ('### Spark abstract', 1),\n",
       " ('#### Resilient Distributed Dataset(RDD)', 1),\n",
       " ('하둡 내에 있는 파일 혹은 디스크에 저장된 Scala collection 으로 시작해서 이를 변환한다.', 1),\n",
       " ('RDD 는 메모리 위에 두어서 병렬처리에서 효율적으로 재사용', 1),\n",
       " ('RDD 는 node의 실패에서 자동으로 회복', 1),\n",
       " ('#### Shared variables', 1),\n",
       " ('spark는 function 서로 다른 nodes 에서 작업 묶음으로 병렬 작동', 1),\n",
       " ('function 의 변수를 복사해서 각 노드에 전달', 1),\n",
       " ('- Broadcast variable', 1),\n",
       " ('한 값을 모든 node 의 메모리에 cache', 1),\n",
       " ('- Accumulatiors', 1),\n",
       " ('누적용 변수, sum or count 연산에 쓰임, 각 작업에서 값을 더해 나가면서 그 결과를 드라이버 프로그램에서 수집, += 처럼 누적 가능, 읽는건 드라이버 프로그램에서만 가능',\n",
       "  1),\n",
       " ('## Quick Start', 1),\n",
       " ('2025.04.14', 1),\n",
       " ('윈도우 환경에서 맥 환경으로 변경', 1),\n",
       " ('첫 시작 simpleApp.py 돌리니', 1),\n",
       " (\"Can't assign requested address: Service 'sparkDriver' failed after 16 retries (on a random free port)! Consider explicitly setting the appropriate binding address for the service 'sparkDriver' (for example spark.driver.bindAddress for SparkDriver) to the correct binding address.\",\n",
       "  1),\n",
       " ('에러 발생', 1),\n",
       " ('-> spark session 객체에서 config 설정에 127.0.0.1 추가', 1),\n",
       " ('혹은 load-spark-env.sh 설정에서 주소 설정', 1),\n",
       " ('2025.04.10', 1),\n",
       " ('시작', 1)]"
      ]
     },
     "execution_count": 13,
     "metadata": {},
     "output_type": "execute_result"
    }
   ],
   "execution_count": 13
  },
  {
   "metadata": {},
   "cell_type": "markdown",
   "source": [
    "### Transformations \n",
    "아래 예제들은 Spark 에서 지원하고 자주 쓰는 transformation 들이다.  \n",
    "RDD API 문서 (https://spark.apache.org/docs/latest/api/python/reference/api/pyspark.RDD.html#pyspark.RDD)  \n",
    "pair RDD 함수 문서는 파이썬 링크가 없다 ㅜㅜ  "
   ],
   "id": "462aba244195fd27"
  },
  {
   "metadata": {
    "ExecuteTime": {
     "end_time": "2025-04-28T14:59:04.903307Z",
     "start_time": "2025-04-28T14:59:03.115674Z"
    }
   },
   "cell_type": "code",
   "source": [
    "lines = sc.textFile(\"../data/data.txt\")\n",
    "lines.collect()"
   ],
   "id": "6d2fe50db32c593",
   "outputs": [
    {
     "data": {
      "text/plain": [
       "['# Spark 3.5.5 tutorial',\n",
       " 'Apache Spark 공식 문서 스터디',\n",
       " '',\n",
       " '## RDD Programming Guide',\n",
       " '2025.04.16',\n",
       " '실습 진행',\n",
       " '----',\n",
       " '2025.04.15',\n",
       " '코드 실습은 jupyternotebook 이 편리해보여서 변경',\n",
       " '### Spark abstract',\n",
       " '#### Resilient Distributed Dataset(RDD)',\n",
       " '하둡 내에 있는 파일 혹은 디스크에 저장된 Scala collection 으로 시작해서 이를 변환한다.',\n",
       " 'RDD 는 메모리 위에 두어서 병렬처리에서 효율적으로 재사용',\n",
       " 'RDD 는 node의 실패에서 자동으로 회복',\n",
       " '#### Shared variables',\n",
       " 'spark는 function 서로 다른 nodes 에서 작업 묶음으로 병렬 작동',\n",
       " 'function 의 변수를 복사해서 각 노드에 전달',\n",
       " '- Broadcast variable',\n",
       " '한 값을 모든 node 의 메모리에 cache',\n",
       " '- Accumulatiors',\n",
       " '누적용 변수, sum or count 연산에 쓰임, 각 작업에서 값을 더해 나가면서 그 결과를 드라이버 프로그램에서 수집, += 처럼 누적 가능, 읽는건 드라이버 프로그램에서만 가능',\n",
       " '----',\n",
       " '',\n",
       " '',\n",
       " '',\n",
       " '## Quick Start',\n",
       " '2025.04.14',\n",
       " '윈도우 환경에서 맥 환경으로 변경',\n",
       " '첫 시작 simpleApp.py 돌리니',\n",
       " \"Can't assign requested address: Service 'sparkDriver' failed after 16 retries (on a random free port)! Consider explicitly setting the appropriate binding address for the service 'sparkDriver' (for example spark.driver.bindAddress for SparkDriver) to the correct binding address.\",\n",
       " '에러 발생',\n",
       " '-> spark session 객체에서 config 설정에 127.0.0.1 추가',\n",
       " '혹은 load-spark-env.sh 설정에서 주소 설정',\n",
       " '----',\n",
       " '',\n",
       " '2025.04.10',\n",
       " '시작']"
      ]
     },
     "execution_count": 3,
     "metadata": {},
     "output_type": "execute_result"
    }
   ],
   "execution_count": 3
  },
  {
   "metadata": {
    "ExecuteTime": {
     "end_time": "2025-04-24T14:04:20.849124Z",
     "start_time": "2025-04-24T14:04:20.717039Z"
    }
   },
   "cell_type": "code",
   "source": [
    "linesMap = lines.map(lambda l: l.split(' '))\n",
    "linesMap.collect()"
   ],
   "id": "fbe0693dd87a78a1",
   "outputs": [
    {
     "data": {
      "text/plain": [
       "[['#', 'Spark', '3.5.5', 'tutorial'],\n",
       " ['Apache', 'Spark', '공식', '문서', '스터디'],\n",
       " [''],\n",
       " ['##', 'RDD', 'Programming', 'Guide'],\n",
       " ['2025.04.16'],\n",
       " ['실습', '진행'],\n",
       " ['----'],\n",
       " ['2025.04.15'],\n",
       " ['코드', '실습은', 'jupyternotebook', '이', '편리해보여서', '변경'],\n",
       " ['###', 'Spark', 'abstract'],\n",
       " ['####', 'Resilient', 'Distributed', 'Dataset(RDD)'],\n",
       " ['하둡',\n",
       "  '내에',\n",
       "  '있는',\n",
       "  '파일',\n",
       "  '혹은',\n",
       "  '디스크에',\n",
       "  '저장된',\n",
       "  'Scala',\n",
       "  'collection',\n",
       "  '으로',\n",
       "  '시작해서',\n",
       "  '이를',\n",
       "  '변환한다.'],\n",
       " ['RDD', '는', '메모리', '위에', '두어서', '병렬처리에서', '효율적으로', '재사용'],\n",
       " ['RDD', '는', 'node의', '실패에서', '자동으로', '회복'],\n",
       " ['####', 'Shared', 'variables'],\n",
       " ['spark는', 'function', '서로', '다른', 'nodes', '에서', '작업', '묶음으로', '병렬', '작동'],\n",
       " ['function', '의', '변수를', '복사해서', '각', '노드에', '전달'],\n",
       " ['-', 'Broadcast', 'variable'],\n",
       " ['한', '값을', '모든', 'node', '의', '메모리에', 'cache'],\n",
       " ['-', 'Accumulatiors'],\n",
       " ['누적용',\n",
       "  '변수,',\n",
       "  'sum',\n",
       "  'or',\n",
       "  'count',\n",
       "  '연산에',\n",
       "  '쓰임,',\n",
       "  '각',\n",
       "  '작업에서',\n",
       "  '값을',\n",
       "  '더해',\n",
       "  '나가면서',\n",
       "  '그',\n",
       "  '결과를',\n",
       "  '드라이버',\n",
       "  '프로그램에서',\n",
       "  '수집,',\n",
       "  '+=',\n",
       "  '처럼',\n",
       "  '누적',\n",
       "  '가능,',\n",
       "  '읽는건',\n",
       "  '드라이버',\n",
       "  '프로그램에서만',\n",
       "  '가능'],\n",
       " ['----'],\n",
       " [''],\n",
       " [''],\n",
       " [''],\n",
       " ['##', 'Quick', 'Start'],\n",
       " ['2025.04.14'],\n",
       " ['윈도우', '환경에서', '맥', '환경으로', '변경'],\n",
       " ['첫', '시작', 'simpleApp.py', '돌리니'],\n",
       " [\"Can't\",\n",
       "  'assign',\n",
       "  'requested',\n",
       "  'address:',\n",
       "  'Service',\n",
       "  \"'sparkDriver'\",\n",
       "  'failed',\n",
       "  'after',\n",
       "  '16',\n",
       "  'retries',\n",
       "  '(on',\n",
       "  'a',\n",
       "  'random',\n",
       "  'free',\n",
       "  'port)!',\n",
       "  'Consider',\n",
       "  'explicitly',\n",
       "  'setting',\n",
       "  'the',\n",
       "  'appropriate',\n",
       "  'binding',\n",
       "  'address',\n",
       "  'for',\n",
       "  'the',\n",
       "  'service',\n",
       "  \"'sparkDriver'\",\n",
       "  '(for',\n",
       "  'example',\n",
       "  'spark.driver.bindAddress',\n",
       "  'for',\n",
       "  'SparkDriver)',\n",
       "  'to',\n",
       "  'the',\n",
       "  'correct',\n",
       "  'binding',\n",
       "  'address.'],\n",
       " ['에러', '발생'],\n",
       " ['->', 'spark', 'session', '객체에서', 'config', '설정에', '127.0.0.1', '추가'],\n",
       " ['혹은', 'load-spark-env.sh', '설정에서', '주소', '설정'],\n",
       " ['----'],\n",
       " [''],\n",
       " ['2025.04.10'],\n",
       " ['시작']]"
      ]
     },
     "execution_count": 18,
     "metadata": {},
     "output_type": "execute_result"
    }
   ],
   "execution_count": 18
  },
  {
   "metadata": {
    "ExecuteTime": {
     "end_time": "2025-04-24T14:05:04.355596Z",
     "start_time": "2025-04-24T14:05:04.224581Z"
    }
   },
   "cell_type": "code",
   "source": [
    "linesFilter = lines.filter(lambda l: l == '----')\n",
    "# 함수 결과값이 Boolean 일때 사용 가능\n",
    "linesFilter.collect()"
   ],
   "id": "bdf314d758ef973f",
   "outputs": [
    {
     "data": {
      "text/plain": [
       "['----', '----', '----']"
      ]
     },
     "execution_count": 19,
     "metadata": {},
     "output_type": "execute_result"
    }
   ],
   "execution_count": 19
  },
  {
   "metadata": {
    "ExecuteTime": {
     "end_time": "2025-04-24T14:20:46.362769Z",
     "start_time": "2025-04-24T14:20:46.222302Z"
    }
   },
   "cell_type": "code",
   "source": [
    "linesFlatMap = lines.flatMap(lambda l: range(1, len(l))) \n",
    "# map의 함수 결과가 list 형태인 경우 그걸 다차원 list 형태 [[]] 가 아닌 하나의 list로 만듬 []\n",
    "# 매게변수 함수의 값이 list 혹은 generator 반환해야함\n",
    "linesFlatMap.collect()"
   ],
   "id": "b16a1357759e72af",
   "outputs": [
    {
     "data": {
      "text/plain": [
       "[1,\n",
       " 2,\n",
       " 3,\n",
       " 4,\n",
       " 5,\n",
       " 6,\n",
       " 7,\n",
       " 8,\n",
       " 9,\n",
       " 10,\n",
       " 11,\n",
       " 12,\n",
       " 13,\n",
       " 14,\n",
       " 15,\n",
       " 16,\n",
       " 17,\n",
       " 18,\n",
       " 19,\n",
       " 20,\n",
       " 21,\n",
       " 1,\n",
       " 2,\n",
       " 3,\n",
       " 4,\n",
       " 5,\n",
       " 6,\n",
       " 7,\n",
       " 8,\n",
       " 9,\n",
       " 10,\n",
       " 11,\n",
       " 12,\n",
       " 13,\n",
       " 14,\n",
       " 15,\n",
       " 16,\n",
       " 17,\n",
       " 18,\n",
       " 19,\n",
       " 20,\n",
       " 21,\n",
       " 1,\n",
       " 2,\n",
       " 3,\n",
       " 4,\n",
       " 5,\n",
       " 6,\n",
       " 7,\n",
       " 8,\n",
       " 9,\n",
       " 10,\n",
       " 11,\n",
       " 12,\n",
       " 13,\n",
       " 14,\n",
       " 15,\n",
       " 16,\n",
       " 17,\n",
       " 18,\n",
       " 19,\n",
       " 20,\n",
       " 21,\n",
       " 22,\n",
       " 23,\n",
       " 1,\n",
       " 2,\n",
       " 3,\n",
       " 4,\n",
       " 5,\n",
       " 6,\n",
       " 7,\n",
       " 8,\n",
       " 9,\n",
       " 1,\n",
       " 2,\n",
       " 3,\n",
       " 4,\n",
       " 1,\n",
       " 2,\n",
       " 3,\n",
       " 1,\n",
       " 2,\n",
       " 3,\n",
       " 4,\n",
       " 5,\n",
       " 6,\n",
       " 7,\n",
       " 8,\n",
       " 9,\n",
       " 1,\n",
       " 2,\n",
       " 3,\n",
       " 4,\n",
       " 5,\n",
       " 6,\n",
       " 7,\n",
       " 8,\n",
       " 9,\n",
       " 10,\n",
       " 11,\n",
       " 12,\n",
       " 13,\n",
       " 14,\n",
       " 15,\n",
       " 16,\n",
       " 17,\n",
       " 18,\n",
       " 19,\n",
       " 20,\n",
       " 21,\n",
       " 22,\n",
       " 23,\n",
       " 24,\n",
       " 25,\n",
       " 26,\n",
       " 27,\n",
       " 28,\n",
       " 29,\n",
       " 30,\n",
       " 31,\n",
       " 32,\n",
       " 33,\n",
       " 1,\n",
       " 2,\n",
       " 3,\n",
       " 4,\n",
       " 5,\n",
       " 6,\n",
       " 7,\n",
       " 8,\n",
       " 9,\n",
       " 10,\n",
       " 11,\n",
       " 12,\n",
       " 13,\n",
       " 14,\n",
       " 15,\n",
       " 16,\n",
       " 17,\n",
       " 1,\n",
       " 2,\n",
       " 3,\n",
       " 4,\n",
       " 5,\n",
       " 6,\n",
       " 7,\n",
       " 8,\n",
       " 9,\n",
       " 10,\n",
       " 11,\n",
       " 12,\n",
       " 13,\n",
       " 14,\n",
       " 15,\n",
       " 16,\n",
       " 17,\n",
       " 18,\n",
       " 19,\n",
       " 20,\n",
       " 21,\n",
       " 22,\n",
       " 23,\n",
       " 24,\n",
       " 25,\n",
       " 26,\n",
       " 27,\n",
       " 28,\n",
       " 29,\n",
       " 30,\n",
       " 31,\n",
       " 32,\n",
       " 33,\n",
       " 34,\n",
       " 35,\n",
       " 36,\n",
       " 37,\n",
       " 38,\n",
       " 1,\n",
       " 2,\n",
       " 3,\n",
       " 4,\n",
       " 5,\n",
       " 6,\n",
       " 7,\n",
       " 8,\n",
       " 9,\n",
       " 10,\n",
       " 11,\n",
       " 12,\n",
       " 13,\n",
       " 14,\n",
       " 15,\n",
       " 16,\n",
       " 17,\n",
       " 18,\n",
       " 19,\n",
       " 20,\n",
       " 21,\n",
       " 22,\n",
       " 23,\n",
       " 24,\n",
       " 25,\n",
       " 26,\n",
       " 27,\n",
       " 28,\n",
       " 29,\n",
       " 30,\n",
       " 31,\n",
       " 32,\n",
       " 33,\n",
       " 34,\n",
       " 35,\n",
       " 36,\n",
       " 37,\n",
       " 38,\n",
       " 39,\n",
       " 40,\n",
       " 41,\n",
       " 42,\n",
       " 43,\n",
       " 44,\n",
       " 45,\n",
       " 46,\n",
       " 47,\n",
       " 48,\n",
       " 49,\n",
       " 50,\n",
       " 51,\n",
       " 52,\n",
       " 53,\n",
       " 54,\n",
       " 55,\n",
       " 56,\n",
       " 1,\n",
       " 2,\n",
       " 3,\n",
       " 4,\n",
       " 5,\n",
       " 6,\n",
       " 7,\n",
       " 8,\n",
       " 9,\n",
       " 10,\n",
       " 11,\n",
       " 12,\n",
       " 13,\n",
       " 14,\n",
       " 15,\n",
       " 16,\n",
       " 17,\n",
       " 18,\n",
       " 19,\n",
       " 20,\n",
       " 21,\n",
       " 22,\n",
       " 23,\n",
       " 24,\n",
       " 25,\n",
       " 26,\n",
       " 27,\n",
       " 28,\n",
       " 29,\n",
       " 30,\n",
       " 31,\n",
       " 32,\n",
       " 1,\n",
       " 2,\n",
       " 3,\n",
       " 4,\n",
       " 5,\n",
       " 6,\n",
       " 7,\n",
       " 8,\n",
       " 9,\n",
       " 10,\n",
       " 11,\n",
       " 12,\n",
       " 13,\n",
       " 14,\n",
       " 15,\n",
       " 16,\n",
       " 17,\n",
       " 18,\n",
       " 19,\n",
       " 20,\n",
       " 21,\n",
       " 22,\n",
       " 23,\n",
       " 1,\n",
       " 2,\n",
       " 3,\n",
       " 4,\n",
       " 5,\n",
       " 6,\n",
       " 7,\n",
       " 8,\n",
       " 9,\n",
       " 10,\n",
       " 11,\n",
       " 12,\n",
       " 13,\n",
       " 14,\n",
       " 15,\n",
       " 16,\n",
       " 17,\n",
       " 18,\n",
       " 19,\n",
       " 20,\n",
       " 1,\n",
       " 2,\n",
       " 3,\n",
       " 4,\n",
       " 5,\n",
       " 6,\n",
       " 7,\n",
       " 8,\n",
       " 9,\n",
       " 10,\n",
       " 11,\n",
       " 12,\n",
       " 13,\n",
       " 14,\n",
       " 15,\n",
       " 16,\n",
       " 17,\n",
       " 18,\n",
       " 19,\n",
       " 20,\n",
       " 21,\n",
       " 22,\n",
       " 23,\n",
       " 24,\n",
       " 25,\n",
       " 26,\n",
       " 27,\n",
       " 28,\n",
       " 29,\n",
       " 30,\n",
       " 31,\n",
       " 32,\n",
       " 33,\n",
       " 34,\n",
       " 35,\n",
       " 36,\n",
       " 37,\n",
       " 38,\n",
       " 39,\n",
       " 40,\n",
       " 41,\n",
       " 42,\n",
       " 43,\n",
       " 1,\n",
       " 2,\n",
       " 3,\n",
       " 4,\n",
       " 5,\n",
       " 6,\n",
       " 7,\n",
       " 8,\n",
       " 9,\n",
       " 10,\n",
       " 11,\n",
       " 12,\n",
       " 13,\n",
       " 14,\n",
       " 15,\n",
       " 16,\n",
       " 17,\n",
       " 18,\n",
       " 19,\n",
       " 20,\n",
       " 21,\n",
       " 22,\n",
       " 23,\n",
       " 24,\n",
       " 25,\n",
       " 26,\n",
       " 27,\n",
       " 1,\n",
       " 2,\n",
       " 3,\n",
       " 4,\n",
       " 5,\n",
       " 6,\n",
       " 7,\n",
       " 8,\n",
       " 9,\n",
       " 10,\n",
       " 11,\n",
       " 12,\n",
       " 13,\n",
       " 14,\n",
       " 15,\n",
       " 16,\n",
       " 17,\n",
       " 18,\n",
       " 19,\n",
       " 1,\n",
       " 2,\n",
       " 3,\n",
       " 4,\n",
       " 5,\n",
       " 6,\n",
       " 7,\n",
       " 8,\n",
       " 9,\n",
       " 10,\n",
       " 11,\n",
       " 12,\n",
       " 13,\n",
       " 14,\n",
       " 15,\n",
       " 16,\n",
       " 17,\n",
       " 18,\n",
       " 19,\n",
       " 20,\n",
       " 21,\n",
       " 22,\n",
       " 23,\n",
       " 24,\n",
       " 1,\n",
       " 2,\n",
       " 3,\n",
       " 4,\n",
       " 5,\n",
       " 6,\n",
       " 7,\n",
       " 8,\n",
       " 9,\n",
       " 10,\n",
       " 11,\n",
       " 12,\n",
       " 13,\n",
       " 14,\n",
       " 1,\n",
       " 2,\n",
       " 3,\n",
       " 4,\n",
       " 5,\n",
       " 6,\n",
       " 7,\n",
       " 8,\n",
       " 9,\n",
       " 10,\n",
       " 11,\n",
       " 12,\n",
       " 13,\n",
       " 14,\n",
       " 15,\n",
       " 16,\n",
       " 17,\n",
       " 18,\n",
       " 19,\n",
       " 20,\n",
       " 21,\n",
       " 22,\n",
       " 23,\n",
       " 24,\n",
       " 25,\n",
       " 26,\n",
       " 27,\n",
       " 28,\n",
       " 29,\n",
       " 30,\n",
       " 31,\n",
       " 32,\n",
       " 33,\n",
       " 34,\n",
       " 35,\n",
       " 36,\n",
       " 37,\n",
       " 38,\n",
       " 39,\n",
       " 40,\n",
       " 41,\n",
       " 42,\n",
       " 43,\n",
       " 44,\n",
       " 45,\n",
       " 46,\n",
       " 47,\n",
       " 48,\n",
       " 49,\n",
       " 50,\n",
       " 51,\n",
       " 52,\n",
       " 53,\n",
       " 54,\n",
       " 55,\n",
       " 56,\n",
       " 57,\n",
       " 58,\n",
       " 59,\n",
       " 60,\n",
       " 61,\n",
       " 62,\n",
       " 63,\n",
       " 64,\n",
       " 65,\n",
       " 66,\n",
       " 67,\n",
       " 68,\n",
       " 69,\n",
       " 70,\n",
       " 71,\n",
       " 72,\n",
       " 73,\n",
       " 74,\n",
       " 75,\n",
       " 76,\n",
       " 77,\n",
       " 78,\n",
       " 79,\n",
       " 80,\n",
       " 81,\n",
       " 82,\n",
       " 83,\n",
       " 84,\n",
       " 85,\n",
       " 86,\n",
       " 87,\n",
       " 88,\n",
       " 89,\n",
       " 90,\n",
       " 91,\n",
       " 92,\n",
       " 93,\n",
       " 94,\n",
       " 95,\n",
       " 96,\n",
       " 97,\n",
       " 98,\n",
       " 99,\n",
       " 100,\n",
       " 1,\n",
       " 2,\n",
       " 3,\n",
       " 1,\n",
       " 2,\n",
       " 3,\n",
       " 4,\n",
       " 5,\n",
       " 6,\n",
       " 7,\n",
       " 8,\n",
       " 9,\n",
       " 10,\n",
       " 11,\n",
       " 12,\n",
       " 13,\n",
       " 1,\n",
       " 2,\n",
       " 3,\n",
       " 4,\n",
       " 5,\n",
       " 6,\n",
       " 7,\n",
       " 8,\n",
       " 9,\n",
       " 1,\n",
       " 2,\n",
       " 3,\n",
       " 4,\n",
       " 5,\n",
       " 6,\n",
       " 7,\n",
       " 8,\n",
       " 9,\n",
       " 10,\n",
       " 11,\n",
       " 12,\n",
       " 13,\n",
       " 14,\n",
       " 15,\n",
       " 16,\n",
       " 17,\n",
       " 1,\n",
       " 2,\n",
       " 3,\n",
       " 4,\n",
       " 5,\n",
       " 6,\n",
       " 7,\n",
       " 8,\n",
       " 9,\n",
       " 10,\n",
       " 11,\n",
       " 12,\n",
       " 13,\n",
       " 14,\n",
       " 15,\n",
       " 16,\n",
       " 17,\n",
       " 18,\n",
       " 19,\n",
       " 20,\n",
       " 1,\n",
       " 2,\n",
       " 3,\n",
       " 4,\n",
       " 5,\n",
       " 6,\n",
       " 7,\n",
       " 8,\n",
       " 9,\n",
       " 10,\n",
       " 11,\n",
       " 12,\n",
       " 13,\n",
       " 14,\n",
       " 15,\n",
       " 16,\n",
       " 17,\n",
       " 18,\n",
       " 19,\n",
       " 20,\n",
       " 21,\n",
       " 22,\n",
       " 23,\n",
       " 24,\n",
       " 25,\n",
       " 26,\n",
       " 27,\n",
       " 28,\n",
       " 29,\n",
       " 30,\n",
       " 31,\n",
       " 32,\n",
       " 33,\n",
       " 34,\n",
       " 35,\n",
       " 36,\n",
       " 37,\n",
       " 38,\n",
       " 39,\n",
       " 40,\n",
       " 41,\n",
       " 42,\n",
       " 43,\n",
       " 44,\n",
       " 45,\n",
       " 46,\n",
       " 47,\n",
       " 48,\n",
       " 49,\n",
       " 50,\n",
       " 51,\n",
       " 52,\n",
       " 53,\n",
       " 54,\n",
       " 55,\n",
       " 56,\n",
       " 57,\n",
       " 58,\n",
       " 59,\n",
       " 60,\n",
       " 61,\n",
       " 62,\n",
       " 63,\n",
       " 64,\n",
       " 65,\n",
       " 66,\n",
       " 67,\n",
       " 68,\n",
       " 69,\n",
       " 70,\n",
       " 71,\n",
       " 72,\n",
       " 73,\n",
       " 74,\n",
       " 75,\n",
       " 76,\n",
       " 77,\n",
       " 78,\n",
       " 79,\n",
       " 80,\n",
       " 81,\n",
       " 82,\n",
       " 83,\n",
       " 84,\n",
       " 85,\n",
       " 86,\n",
       " 87,\n",
       " 88,\n",
       " 89,\n",
       " 90,\n",
       " 91,\n",
       " 92,\n",
       " 93,\n",
       " 94,\n",
       " 95,\n",
       " 96,\n",
       " 97,\n",
       " 98,\n",
       " 99,\n",
       " 100,\n",
       " 101,\n",
       " 102,\n",
       " 103,\n",
       " 104,\n",
       " 105,\n",
       " 106,\n",
       " 107,\n",
       " 108,\n",
       " 109,\n",
       " 110,\n",
       " 111,\n",
       " 112,\n",
       " 113,\n",
       " 114,\n",
       " 115,\n",
       " 116,\n",
       " 117,\n",
       " 118,\n",
       " 119,\n",
       " 120,\n",
       " 121,\n",
       " 122,\n",
       " 123,\n",
       " 124,\n",
       " 125,\n",
       " 126,\n",
       " 127,\n",
       " 128,\n",
       " 129,\n",
       " 130,\n",
       " 131,\n",
       " 132,\n",
       " 133,\n",
       " 134,\n",
       " 135,\n",
       " 136,\n",
       " 137,\n",
       " 138,\n",
       " 139,\n",
       " 140,\n",
       " 141,\n",
       " 142,\n",
       " 143,\n",
       " 144,\n",
       " 145,\n",
       " 146,\n",
       " 147,\n",
       " 148,\n",
       " 149,\n",
       " 150,\n",
       " 151,\n",
       " 152,\n",
       " 153,\n",
       " 154,\n",
       " 155,\n",
       " 156,\n",
       " 157,\n",
       " 158,\n",
       " 159,\n",
       " 160,\n",
       " 161,\n",
       " 162,\n",
       " 163,\n",
       " 164,\n",
       " 165,\n",
       " 166,\n",
       " 167,\n",
       " 168,\n",
       " 169,\n",
       " 170,\n",
       " 171,\n",
       " 172,\n",
       " 173,\n",
       " 174,\n",
       " 175,\n",
       " 176,\n",
       " 177,\n",
       " 178,\n",
       " 179,\n",
       " 180,\n",
       " 181,\n",
       " 182,\n",
       " 183,\n",
       " 184,\n",
       " 185,\n",
       " 186,\n",
       " 187,\n",
       " 188,\n",
       " 189,\n",
       " 190,\n",
       " 191,\n",
       " 192,\n",
       " 193,\n",
       " 194,\n",
       " 195,\n",
       " 196,\n",
       " 197,\n",
       " 198,\n",
       " 199,\n",
       " 200,\n",
       " 201,\n",
       " 202,\n",
       " 203,\n",
       " 204,\n",
       " 205,\n",
       " 206,\n",
       " 207,\n",
       " 208,\n",
       " 209,\n",
       " 210,\n",
       " 211,\n",
       " 212,\n",
       " 213,\n",
       " 214,\n",
       " 215,\n",
       " 216,\n",
       " 217,\n",
       " 218,\n",
       " 219,\n",
       " 220,\n",
       " 221,\n",
       " 222,\n",
       " 223,\n",
       " 224,\n",
       " 225,\n",
       " 226,\n",
       " 227,\n",
       " 228,\n",
       " 229,\n",
       " 230,\n",
       " 231,\n",
       " 232,\n",
       " 233,\n",
       " 234,\n",
       " 235,\n",
       " 236,\n",
       " 237,\n",
       " 238,\n",
       " 239,\n",
       " 240,\n",
       " 241,\n",
       " 242,\n",
       " 243,\n",
       " 244,\n",
       " 245,\n",
       " 246,\n",
       " 247,\n",
       " 248,\n",
       " 249,\n",
       " 250,\n",
       " 251,\n",
       " 252,\n",
       " 253,\n",
       " 254,\n",
       " 255,\n",
       " 256,\n",
       " 257,\n",
       " 258,\n",
       " 259,\n",
       " 260,\n",
       " 261,\n",
       " 262,\n",
       " 263,\n",
       " 264,\n",
       " 265,\n",
       " 266,\n",
       " 267,\n",
       " 268,\n",
       " 269,\n",
       " 270,\n",
       " 271,\n",
       " 272,\n",
       " 273,\n",
       " 274,\n",
       " 275,\n",
       " 276,\n",
       " 277,\n",
       " 278,\n",
       " 1,\n",
       " 2,\n",
       " 3,\n",
       " 4,\n",
       " 1,\n",
       " 2,\n",
       " 3,\n",
       " 4,\n",
       " 5,\n",
       " 6,\n",
       " 7,\n",
       " 8,\n",
       " 9,\n",
       " 10,\n",
       " 11,\n",
       " 12,\n",
       " 13,\n",
       " 14,\n",
       " 15,\n",
       " 16,\n",
       " 17,\n",
       " 18,\n",
       " 19,\n",
       " 20,\n",
       " 21,\n",
       " 22,\n",
       " 23,\n",
       " 24,\n",
       " 25,\n",
       " 26,\n",
       " 27,\n",
       " 28,\n",
       " 29,\n",
       " 30,\n",
       " 31,\n",
       " 32,\n",
       " 33,\n",
       " 34,\n",
       " 35,\n",
       " 36,\n",
       " 37,\n",
       " 38,\n",
       " 39,\n",
       " 40,\n",
       " 41,\n",
       " 42,\n",
       " 43,\n",
       " 44,\n",
       " 1,\n",
       " 2,\n",
       " 3,\n",
       " 4,\n",
       " 5,\n",
       " 6,\n",
       " 7,\n",
       " 8,\n",
       " 9,\n",
       " 10,\n",
       " 11,\n",
       " 12,\n",
       " 13,\n",
       " 14,\n",
       " 15,\n",
       " 16,\n",
       " 17,\n",
       " 18,\n",
       " 19,\n",
       " 20,\n",
       " 21,\n",
       " 22,\n",
       " 23,\n",
       " 24,\n",
       " 25,\n",
       " 26,\n",
       " 27,\n",
       " 28,\n",
       " 29,\n",
       " 30,\n",
       " 1,\n",
       " 2,\n",
       " 3,\n",
       " 1,\n",
       " 2,\n",
       " 3,\n",
       " 4,\n",
       " 5,\n",
       " 6,\n",
       " 7,\n",
       " 8,\n",
       " 9,\n",
       " 1]"
      ]
     },
     "execution_count": 21,
     "metadata": {},
     "output_type": "execute_result"
    }
   ],
   "execution_count": 21
  },
  {
   "metadata": {
    "ExecuteTime": {
     "end_time": "2025-04-24T14:49:10.497965Z",
     "start_time": "2025-04-24T14:49:10.267636Z"
    }
   },
   "cell_type": "code",
   "source": [
    "def f(iterator): yield sum(iterator) # \n",
    "rdd = sc.parallelize([1, 2, 3, 4], 2)\n",
    "linesMapPartition = rdd.mapPartitions(f) \n",
    "# [1, 2, 3, 4] 를 2개의 파티션으로 나누어서 함수(f) 실행\n",
    "# [1, 2] 와 [3, 4] 생성\n",
    "# 합인 3 과 7 생성\n",
    "# [3, 7] 반환 \n",
    "\n",
    "# mapPartitions 는 무조건 generator만 반환 기대\n",
    "# spark 는 내부적으로 for item in f(partition_iterator): 로 하나씩 꺼내서 새 RDD 구성\n",
    "linesMapPartition.collect()"
   ],
   "id": "7ed61c928ce30c45",
   "outputs": [
    {
     "data": {
      "text/plain": [
       "[3, 7]"
      ]
     },
     "execution_count": 39,
     "metadata": {},
     "output_type": "execute_result"
    }
   ],
   "execution_count": 39
  },
  {
   "metadata": {
    "ExecuteTime": {
     "end_time": "2025-04-24T14:53:02.574416Z",
     "start_time": "2025-04-24T14:53:02.547074Z"
    }
   },
   "cell_type": "code",
   "source": [
    "# generator 실습\n",
    "def f(iterator):\n",
    "    for x in iterator:\n",
    "         yield sum(x)\n",
    "i = [[2,3,4], [2,3,5]]\n",
    "fi = f(i)\n",
    "print(list(f(i)))\n",
    "print(next(fi))\n",
    "print(next(fi))\n",
    "print(next(fi))\n"
   ],
   "id": "932196b6285eb9b6",
   "outputs": [
    {
     "name": "stdout",
     "output_type": "stream",
     "text": [
      "[9, 10]\n",
      "9\n",
      "10\n"
     ]
    },
    {
     "ename": "StopIteration",
     "evalue": "",
     "output_type": "error",
     "traceback": [
      "\u001B[31m---------------------------------------------------------------------------\u001B[39m",
      "\u001B[31mStopIteration\u001B[39m                             Traceback (most recent call last)",
      "\u001B[36mCell\u001B[39m\u001B[36m \u001B[39m\u001B[32mIn[43]\u001B[39m\u001B[32m, line 10\u001B[39m\n\u001B[32m      8\u001B[39m \u001B[38;5;28mprint\u001B[39m(\u001B[38;5;28mnext\u001B[39m(fi))\n\u001B[32m      9\u001B[39m \u001B[38;5;28mprint\u001B[39m(\u001B[38;5;28mnext\u001B[39m(fi))\n\u001B[32m---> \u001B[39m\u001B[32m10\u001B[39m \u001B[38;5;28mprint\u001B[39m(\u001B[38;5;28;43mnext\u001B[39;49m\u001B[43m(\u001B[49m\u001B[43mfi\u001B[49m\u001B[43m)\u001B[49m)\n",
      "\u001B[31mStopIteration\u001B[39m: "
     ]
    }
   ],
   "execution_count": 43
  },
  {
   "metadata": {
    "ExecuteTime": {
     "end_time": "2025-04-28T15:08:19.797924Z",
     "start_time": "2025-04-28T15:08:19.569231Z"
    }
   },
   "cell_type": "code",
   "source": [
    "rdd = sc.parallelize([1, 2, 3, 4], 2)\n",
    "def f(splitIndex, iterator): yield (splitIndex, sum(iterator))\n",
    "rdd.mapPartitionsWithIndex(f).collect()"
   ],
   "id": "37186020c97d62af",
   "outputs": [
    {
     "data": {
      "text/plain": [
       "[(0, 3), (1, 7)]"
      ]
     },
     "execution_count": 31,
     "metadata": {},
     "output_type": "execute_result"
    }
   ],
   "execution_count": 31
  },
  {
   "metadata": {
    "ExecuteTime": {
     "end_time": "2025-04-28T15:13:18.157995Z",
     "start_time": "2025-04-28T15:13:17.747106Z"
    }
   },
   "cell_type": "code",
   "source": [
    "rdd = sc.parallelize(range(100), 4)\n",
    "rdd.sample(withReplacement=False, fraction=0.1, seed=81).collect() #fraction: 0~1 사이 값, 전체의 몇 %를 샘플로 뽑을지 결정"
   ],
   "id": "8b4e1e820e056ebf",
   "outputs": [
    {
     "data": {
      "text/plain": [
       "[4, 26, 39, 41, 42, 52, 63, 76, 80, 86, 97]"
      ]
     },
     "execution_count": 47,
     "metadata": {},
     "output_type": "execute_result"
    }
   ],
   "execution_count": 47
  },
  {
   "metadata": {
    "ExecuteTime": {
     "end_time": "2025-04-28T15:13:43.861865Z",
     "start_time": "2025-04-28T15:13:43.829804Z"
    }
   },
   "cell_type": "code",
   "source": [
    "rdd= sc.parallelize([1, 2, 3, 4])\n",
    "rdd.union(rdd).collect()"
   ],
   "id": "b4e6fd85fd005b17",
   "outputs": [
    {
     "data": {
      "text/plain": [
       "[1, 2, 3, 4, 1, 2, 3, 4]"
      ]
     },
     "execution_count": 48,
     "metadata": {},
     "output_type": "execute_result"
    }
   ],
   "execution_count": 48
  },
  {
   "metadata": {
    "ExecuteTime": {
     "end_time": "2025-04-28T15:20:00.835522Z",
     "start_time": "2025-04-28T15:20:00.368255Z"
    }
   },
   "cell_type": "code",
   "source": [
    "rdd1 = sc.parallelize([1, 2, 3, 4])\n",
    "rdd2 = sc.parallelize([1, 2, 3, 4])\n",
    "rdd1.intersection(rdd2).collect()\n",
    "# 왜 순서가 다르게 나오지? [4, 3] 으로 결과가 나옴 흠\n",
    "# 이상하다 [1, 3] 은 잘 나오는데 4 가 들어간 경우 4가 앞에 나옴\n",
    "# 2도 앞에 나옴\n",
    "# 짝수 먼저 작은수터 그다음 홀수 작은수 부터 나옴 -> 우연!\n",
    "# 값은 보장하지만 순서는 보장하지 않음 -> 정렬은 큰 비용이 듬"
   ],
   "id": "813442c31a5c20f9",
   "outputs": [
    {
     "data": {
      "text/plain": [
       "[2, 4, 1, 3]"
      ]
     },
     "execution_count": 60,
     "metadata": {},
     "output_type": "execute_result"
    }
   ],
   "execution_count": 60
  },
  {
   "metadata": {
    "ExecuteTime": {
     "end_time": "2025-04-28T15:20:59.157090Z",
     "start_time": "2025-04-28T15:20:58.939181Z"
    }
   },
   "cell_type": "code",
   "source": [
    "rdd = sc.parallelize([1, 1, 2, 2, 3])\n",
    "rdd.distinct().collect()"
   ],
   "id": "d03624ea87f783ce",
   "outputs": [
    {
     "data": {
      "text/plain": [
       "[1, 2, 3]"
      ]
     },
     "execution_count": 65,
     "metadata": {},
     "output_type": "execute_result"
    }
   ],
   "execution_count": 65
  },
  {
   "metadata": {
    "ExecuteTime": {
     "end_time": "2025-04-30T14:51:59.661410Z",
     "start_time": "2025-04-30T14:51:59.378138Z"
    }
   },
   "cell_type": "code",
   "source": [
    "rdd = sc.parallelize([1, 2, 3, 4])\n",
    "rdd.map(lambda r: (r%2, r)).groupByKey().mapValues(list).collect()"
   ],
   "id": "407e2099fe6b32c8",
   "outputs": [
    {
     "data": {
      "text/plain": [
       "[(1, [1, 3]), (0, [2, 4])]"
      ]
     },
     "execution_count": 6,
     "metadata": {},
     "output_type": "execute_result"
    }
   ],
   "execution_count": 6
  },
  {
   "metadata": {
    "ExecuteTime": {
     "end_time": "2025-04-30T14:53:13.750896Z",
     "start_time": "2025-04-30T14:53:13.437418Z"
    }
   },
   "cell_type": "code",
   "source": [
    "from operator import add\n",
    "rdd = sc.parallelize([1, 2, 3, 4])\n",
    "rdd.map(lambda r: (r%2, r)).reduceByKey(add).collect()"
   ],
   "id": "1f2a87d9db312841",
   "outputs": [
    {
     "data": {
      "text/plain": [
       "[(1, 4), (0, 6)]"
      ]
     },
     "execution_count": 8,
     "metadata": {},
     "output_type": "execute_result"
    }
   ],
   "execution_count": 8
  },
  {
   "metadata": {
    "ExecuteTime": {
     "end_time": "2025-04-30T15:04:12.738809Z",
     "start_time": "2025-04-30T15:04:12.029666Z"
    }
   },
   "cell_type": "code",
   "source": [
    "rdd = sc.parallelize([(\"a\", 2), (\"b\", 2), (\"a\", 2)])\n",
    "seqFunc = (lambda x, y: (x[0] + y, x[1] + 1)) \n",
    "# 파티션 안에서 zerValue=x 에 더하기 여기에 경우 x[0] + y 는 key-value 에서 value 의 누적합, x[1] + 1 은 같은 키의 횟수\n",
    "combFunc = (lambda x, y: (x[0] + y[0], x[1] + y[1]))\n",
    "# 여러 파티션을 통합하는 과정\n",
    "sorted(rdd.aggregateByKey(zeroValue=(0, 0), seqFunc=seqFunc, combFunc=combFunc).collect())"
   ],
   "id": "ae5a9ed5f298a5f0",
   "outputs": [
    {
     "data": {
      "text/plain": [
       "[('a', (4, 2)), ('b', (2, 1))]"
      ]
     },
     "execution_count": 15,
     "metadata": {},
     "output_type": "execute_result"
    }
   ],
   "execution_count": 15
  },
  {
   "metadata": {
    "ExecuteTime": {
     "end_time": "2025-04-30T15:09:28.837478Z",
     "start_time": "2025-04-30T15:09:28.118603Z"
    }
   },
   "cell_type": "code",
   "source": [
    "rdd = sc.parallelize([(\"big\", 3), (\"Bad\", 2), (\"a\", 4), (\"a\", 1)])\n",
    "print(rdd.collect())\n",
    "print(rdd.sortByKey(ascending=True, numPartitions=3, keyfunc=lambda k: k.lower()).collect())\n",
    "# key 기준으로만 정렬하고 별도로 value 에 대한 정렬은 없다\n",
    "# value 기준으로는 그저 RDD 의 순서를 따름 "
   ],
   "id": "85e147ed8ce8bb5a",
   "outputs": [
    {
     "name": "stdout",
     "output_type": "stream",
     "text": [
      "[('big', 3), ('Bad', 2), ('a', 4), ('a', 1)]\n",
      "[('Bad', 2), ('a', 4), ('a', 1), ('big', 3)]\n"
     ]
    }
   ],
   "execution_count": 27
  },
  {
   "metadata": {
    "ExecuteTime": {
     "end_time": "2025-05-07T15:06:03.084860Z",
     "start_time": "2025-05-07T15:06:02.563361Z"
    }
   },
   "cell_type": "code",
   "source": [
    "rdd1 = sc.parallelize([(\"a\", 1), (\"b\", 2), (\"c\", 3)])\n",
    "rdd2 = sc.parallelize([(\"a\", 2), (\"b\", 3)])\n",
    "sorted(rdd1.leftOuterJoin(rdd2).collect())"
   ],
   "id": "ef56e86a59b2963d",
   "outputs": [
    {
     "data": {
      "text/plain": [
       "[('a', (1, 2)), ('b', (2, 3)), ('c', (3, None))]"
      ]
     },
     "execution_count": 10,
     "metadata": {},
     "output_type": "execute_result"
    }
   ],
   "execution_count": 10
  },
  {
   "metadata": {
    "ExecuteTime": {
     "end_time": "2025-05-07T15:06:33.006896Z",
     "start_time": "2025-05-07T15:06:32.505700Z"
    }
   },
   "cell_type": "code",
   "source": [
    "rdd1 = sc.parallelize([(\"a\", 1), (\"b\", 2), (\"c\", 3)])\n",
    "rdd2 = sc.parallelize([(\"a\", 2), (\"b\", 3)])\n",
    "# rdd1.cogroup(rdd2).collect()\n",
    "[(x, tuple(map(list, y))) for x, y in sorted(list(rdd1.cogroup(rdd2).collect()))]"
   ],
   "id": "20b4b0a93c963317",
   "outputs": [
    {
     "data": {
      "text/plain": [
       "[('a', ([1], [2])), ('b', ([2], [3])), ('c', ([3], []))]"
      ]
     },
     "execution_count": 12,
     "metadata": {},
     "output_type": "execute_result"
    }
   ],
   "execution_count": 12
  },
  {
   "metadata": {
    "ExecuteTime": {
     "end_time": "2025-05-07T15:06:55.466514Z",
     "start_time": "2025-05-07T15:06:55.429932Z"
    }
   },
   "cell_type": "code",
   "source": [
    "rdd1 = sc.parallelize([(\"a\", 1), (\"b\", 2), (\"c\", 3)])\n",
    "rdd2 = sc.parallelize([(\"a\", 2), (\"b\", 3)])\n",
    "rdd1.cartesian(rdd2).collect() #모든 가능한 조합"
   ],
   "id": "7b2487c93b58a58d",
   "outputs": [
    {
     "data": {
      "text/plain": [
       "[(('a', 1), ('a', 2)),\n",
       " (('a', 1), ('b', 3)),\n",
       " (('b', 2), ('a', 2)),\n",
       " (('b', 2), ('b', 3)),\n",
       " (('c', 3), ('a', 2)),\n",
       " (('c', 3), ('b', 3))]"
      ]
     },
     "execution_count": 13,
     "metadata": {},
     "output_type": "execute_result"
    }
   ],
   "execution_count": 13
  },
  {
   "metadata": {},
   "cell_type": "code",
   "outputs": [],
   "execution_count": null,
   "source": [
    "rdd1 = sc.parallelize([(\"a\", 1), (\"b\", 2), (\"c\", 3)])\n",
    "rdd2 = sc.parallelize([(\"a\", 2), (\"b\", 3)])\n",
    "rdd1.cartesian(rdd2).collect() #모든 가능한 조합"
   ],
   "id": "ed76449aa19a6169"
  }
 ],
 "metadata": {
  "kernelspec": {
   "display_name": "Python 3",
   "language": "python",
   "name": "python3"
  },
  "language_info": {
   "codemirror_mode": {
    "name": "ipython",
    "version": 2
   },
   "file_extension": ".py",
   "mimetype": "text/x-python",
   "name": "python",
   "nbconvert_exporter": "python",
   "pygments_lexer": "ipython2",
   "version": "2.7.6"
  }
 },
 "nbformat": 4,
 "nbformat_minor": 5
}
