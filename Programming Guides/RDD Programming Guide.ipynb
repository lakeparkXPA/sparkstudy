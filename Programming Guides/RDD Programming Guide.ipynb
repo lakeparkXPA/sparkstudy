{
 "cells": [
  {
   "metadata": {},
   "cell_type": "markdown",
   "source": [
    "## Linking with Spark\n",
    "driver 와 worker들의 python version 이 동일해야한다."
   ],
   "id": "5aab6d67e8801f95"
  },
  {
   "metadata": {
    "ExecuteTime": {
     "end_time": "2025-04-15T14:53:16.043210Z",
     "start_time": "2025-04-15T14:53:08.879071Z"
    }
   },
   "cell_type": "code",
   "source": "from pyspark import SparkContext, SparkConf",
   "id": "initial_id",
   "outputs": [],
   "execution_count": 1
  },
  {
   "metadata": {},
   "cell_type": "markdown",
   "source": [
    "## Initializing Spark \n",
    "### SparkContext\n",
    "어떻게 cluster 에 접근할지 Spark 에게 알려줌\n",
    "### SparkConf\n",
    "내 application 정보 저장"
   ],
   "id": "b98adda65ff6fc97"
  },
  {
   "metadata": {
    "ExecuteTime": {
     "end_time": "2025-04-15T15:00:24.613606Z",
     "start_time": "2025-04-15T15:00:20.178212Z"
    }
   },
   "cell_type": "code",
   "source": [
    "conf = SparkConf().setAppName(\"RDD Programming Guide\").setMaster(\"local\")\n",
    "sc = SparkContext(conf=conf)"
   ],
   "id": "67bb26435cefeb6b",
   "outputs": [
    {
     "name": "stderr",
     "output_type": "stream",
     "text": [
      "25/04/16 00:00:22 WARN Utils: Your hostname, gimjunhaui-MacBookPro.local resolves to a loopback address: 127.0.0.1; using 192.168.45.202 instead (on interface en0)\n",
      "25/04/16 00:00:22 WARN Utils: Set SPARK_LOCAL_IP if you need to bind to another address\n",
      "Setting default log level to \"WARN\".\n",
      "To adjust logging level use sc.setLogLevel(newLevel). For SparkR, use setLogLevel(newLevel).\n",
      "25/04/16 00:00:23 WARN NativeCodeLoader: Unable to load native-hadoop library for your platform... using builtin-java classes where applicable\n"
     ]
    }
   ],
   "execution_count": 2
  },
  {
   "metadata": {},
   "cell_type": "code",
   "outputs": [],
   "execution_count": null,
   "source": "",
   "id": "4ff25570f5552022"
  }
 ],
 "metadata": {
  "kernelspec": {
   "display_name": "Python 3",
   "language": "python",
   "name": "python3"
  },
  "language_info": {
   "codemirror_mode": {
    "name": "ipython",
    "version": 2
   },
   "file_extension": ".py",
   "mimetype": "text/x-python",
   "name": "python",
   "nbconvert_exporter": "python",
   "pygments_lexer": "ipython2",
   "version": "2.7.6"
  }
 },
 "nbformat": 4,
 "nbformat_minor": 5
}
